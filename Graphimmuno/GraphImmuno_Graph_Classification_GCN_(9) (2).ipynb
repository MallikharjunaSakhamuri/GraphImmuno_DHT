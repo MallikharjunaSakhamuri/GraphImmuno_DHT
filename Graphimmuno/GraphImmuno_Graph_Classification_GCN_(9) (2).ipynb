{
  "cells": [
    {
      "cell_type": "code",
      "source": [
        "!pip install 'networkx<2.7'"
      ],
      "metadata": {
        "colab": {
          "base_uri": "https://localhost:8080/"
        },
        "id": "3zPwmh5tvC1h",
        "outputId": "64b45ff4-3a3a-45ae-865f-6396bd6622e1"
      },
      "execution_count": 2,
      "outputs": [
        {
          "output_type": "stream",
          "name": "stdout",
          "text": [
            "Looking in indexes: https://pypi.org/simple, https://us-python.pkg.dev/colab-wheels/public/simple/\n",
            "Requirement already satisfied: networkx<2.7 in /usr/local/lib/python3.8/dist-packages (2.6.3)\n"
          ]
        }
      ]
    },
    {
      "cell_type": "code",
      "execution_count": 3,
      "metadata": {
        "id": "CTwzZOIci_84"
      },
      "outputs": [],
      "source": [
        "import pandas as pd\n",
        "import numpy as np"
      ]
    },
    {
      "cell_type": "code",
      "execution_count": 4,
      "metadata": {
        "colab": {
          "base_uri": "https://localhost:8080/"
        },
        "id": "yqUla_93jTBg",
        "outputId": "e222eb2c-7669-42f3-9551-253e67d9940c"
      },
      "outputs": [
        {
          "output_type": "stream",
          "name": "stdout",
          "text": [
            "Looking in indexes: https://pypi.org/simple, https://us-python.pkg.dev/colab-wheels/public/simple/\n",
            "Requirement already satisfied: stellargraph in /usr/local/lib/python3.8/dist-packages (1.2.1)\n",
            "Requirement already satisfied: networkx>=2.2 in /usr/local/lib/python3.8/dist-packages (from stellargraph) (2.6.3)\n",
            "Requirement already satisfied: scikit-learn>=0.20 in /usr/local/lib/python3.8/dist-packages (from stellargraph) (1.0.2)\n",
            "Requirement already satisfied: gensim>=3.4.0 in /usr/local/lib/python3.8/dist-packages (from stellargraph) (3.6.0)\n",
            "Requirement already satisfied: pandas>=0.24 in /usr/local/lib/python3.8/dist-packages (from stellargraph) (1.3.5)\n",
            "Requirement already satisfied: scipy>=1.1.0 in /usr/local/lib/python3.8/dist-packages (from stellargraph) (1.10.0)\n",
            "Requirement already satisfied: matplotlib>=2.2 in /usr/local/lib/python3.8/dist-packages (from stellargraph) (3.2.2)\n",
            "Requirement already satisfied: numpy>=1.14 in /usr/local/lib/python3.8/dist-packages (from stellargraph) (1.21.6)\n",
            "Requirement already satisfied: tensorflow>=2.1.0 in /usr/local/lib/python3.8/dist-packages (from stellargraph) (2.11.0)\n",
            "Requirement already satisfied: six>=1.5.0 in /usr/local/lib/python3.8/dist-packages (from gensim>=3.4.0->stellargraph) (1.15.0)\n",
            "Requirement already satisfied: smart-open>=1.2.1 in /usr/local/lib/python3.8/dist-packages (from gensim>=3.4.0->stellargraph) (6.3.0)\n",
            "Requirement already satisfied: kiwisolver>=1.0.1 in /usr/local/lib/python3.8/dist-packages (from matplotlib>=2.2->stellargraph) (1.4.4)\n",
            "Requirement already satisfied: pyparsing!=2.0.4,!=2.1.2,!=2.1.6,>=2.0.1 in /usr/local/lib/python3.8/dist-packages (from matplotlib>=2.2->stellargraph) (3.0.9)\n",
            "Requirement already satisfied: cycler>=0.10 in /usr/local/lib/python3.8/dist-packages (from matplotlib>=2.2->stellargraph) (0.11.0)\n",
            "Requirement already satisfied: python-dateutil>=2.1 in /usr/local/lib/python3.8/dist-packages (from matplotlib>=2.2->stellargraph) (2.8.2)\n",
            "Requirement already satisfied: pytz>=2017.3 in /usr/local/lib/python3.8/dist-packages (from pandas>=0.24->stellargraph) (2022.7.1)\n",
            "Requirement already satisfied: threadpoolctl>=2.0.0 in /usr/local/lib/python3.8/dist-packages (from scikit-learn>=0.20->stellargraph) (3.1.0)\n",
            "Requirement already satisfied: joblib>=0.11 in /usr/local/lib/python3.8/dist-packages (from scikit-learn>=0.20->stellargraph) (1.2.0)\n",
            "Requirement already satisfied: wrapt>=1.11.0 in /usr/local/lib/python3.8/dist-packages (from tensorflow>=2.1.0->stellargraph) (1.14.1)\n",
            "Requirement already satisfied: absl-py>=1.0.0 in /usr/local/lib/python3.8/dist-packages (from tensorflow>=2.1.0->stellargraph) (1.4.0)\n",
            "Requirement already satisfied: keras<2.12,>=2.11.0 in /usr/local/lib/python3.8/dist-packages (from tensorflow>=2.1.0->stellargraph) (2.11.0)\n",
            "Requirement already satisfied: termcolor>=1.1.0 in /usr/local/lib/python3.8/dist-packages (from tensorflow>=2.1.0->stellargraph) (2.2.0)\n",
            "Requirement already satisfied: tensorflow-estimator<2.12,>=2.11.0 in /usr/local/lib/python3.8/dist-packages (from tensorflow>=2.1.0->stellargraph) (2.11.0)\n",
            "Requirement already satisfied: tensorflow-io-gcs-filesystem>=0.23.1 in /usr/local/lib/python3.8/dist-packages (from tensorflow>=2.1.0->stellargraph) (0.30.0)\n",
            "Requirement already satisfied: libclang>=13.0.0 in /usr/local/lib/python3.8/dist-packages (from tensorflow>=2.1.0->stellargraph) (15.0.6.1)\n",
            "Requirement already satisfied: protobuf<3.20,>=3.9.2 in /usr/local/lib/python3.8/dist-packages (from tensorflow>=2.1.0->stellargraph) (3.19.6)\n",
            "Requirement already satisfied: grpcio<2.0,>=1.24.3 in /usr/local/lib/python3.8/dist-packages (from tensorflow>=2.1.0->stellargraph) (1.51.1)\n",
            "Requirement already satisfied: astunparse>=1.6.0 in /usr/local/lib/python3.8/dist-packages (from tensorflow>=2.1.0->stellargraph) (1.6.3)\n",
            "Requirement already satisfied: tensorboard<2.12,>=2.11 in /usr/local/lib/python3.8/dist-packages (from tensorflow>=2.1.0->stellargraph) (2.11.2)\n",
            "Requirement already satisfied: typing-extensions>=3.6.6 in /usr/local/lib/python3.8/dist-packages (from tensorflow>=2.1.0->stellargraph) (4.4.0)\n",
            "Requirement already satisfied: packaging in /usr/local/lib/python3.8/dist-packages (from tensorflow>=2.1.0->stellargraph) (23.0)\n",
            "Requirement already satisfied: setuptools in /usr/local/lib/python3.8/dist-packages (from tensorflow>=2.1.0->stellargraph) (57.4.0)\n",
            "Requirement already satisfied: opt-einsum>=2.3.2 in /usr/local/lib/python3.8/dist-packages (from tensorflow>=2.1.0->stellargraph) (3.3.0)\n",
            "Requirement already satisfied: google-pasta>=0.1.1 in /usr/local/lib/python3.8/dist-packages (from tensorflow>=2.1.0->stellargraph) (0.2.0)\n",
            "Requirement already satisfied: h5py>=2.9.0 in /usr/local/lib/python3.8/dist-packages (from tensorflow>=2.1.0->stellargraph) (3.1.0)\n",
            "Requirement already satisfied: flatbuffers>=2.0 in /usr/local/lib/python3.8/dist-packages (from tensorflow>=2.1.0->stellargraph) (23.1.21)\n",
            "Requirement already satisfied: gast<=0.4.0,>=0.2.1 in /usr/local/lib/python3.8/dist-packages (from tensorflow>=2.1.0->stellargraph) (0.4.0)\n",
            "Requirement already satisfied: wheel<1.0,>=0.23.0 in /usr/local/lib/python3.8/dist-packages (from astunparse>=1.6.0->tensorflow>=2.1.0->stellargraph) (0.38.4)\n",
            "Requirement already satisfied: requests<3,>=2.21.0 in /usr/local/lib/python3.8/dist-packages (from tensorboard<2.12,>=2.11->tensorflow>=2.1.0->stellargraph) (2.25.1)\n",
            "Requirement already satisfied: google-auth<3,>=1.6.3 in /usr/local/lib/python3.8/dist-packages (from tensorboard<2.12,>=2.11->tensorflow>=2.1.0->stellargraph) (2.16.0)\n",
            "Requirement already satisfied: tensorboard-data-server<0.7.0,>=0.6.0 in /usr/local/lib/python3.8/dist-packages (from tensorboard<2.12,>=2.11->tensorflow>=2.1.0->stellargraph) (0.6.1)\n",
            "Requirement already satisfied: tensorboard-plugin-wit>=1.6.0 in /usr/local/lib/python3.8/dist-packages (from tensorboard<2.12,>=2.11->tensorflow>=2.1.0->stellargraph) (1.8.1)\n",
            "Requirement already satisfied: google-auth-oauthlib<0.5,>=0.4.1 in /usr/local/lib/python3.8/dist-packages (from tensorboard<2.12,>=2.11->tensorflow>=2.1.0->stellargraph) (0.4.6)\n",
            "Requirement already satisfied: werkzeug>=1.0.1 in /usr/local/lib/python3.8/dist-packages (from tensorboard<2.12,>=2.11->tensorflow>=2.1.0->stellargraph) (1.0.1)\n",
            "Requirement already satisfied: markdown>=2.6.8 in /usr/local/lib/python3.8/dist-packages (from tensorboard<2.12,>=2.11->tensorflow>=2.1.0->stellargraph) (3.4.1)\n",
            "Requirement already satisfied: rsa<5,>=3.1.4 in /usr/local/lib/python3.8/dist-packages (from google-auth<3,>=1.6.3->tensorboard<2.12,>=2.11->tensorflow>=2.1.0->stellargraph) (4.9)\n",
            "Requirement already satisfied: pyasn1-modules>=0.2.1 in /usr/local/lib/python3.8/dist-packages (from google-auth<3,>=1.6.3->tensorboard<2.12,>=2.11->tensorflow>=2.1.0->stellargraph) (0.2.8)\n",
            "Requirement already satisfied: cachetools<6.0,>=2.0.0 in /usr/local/lib/python3.8/dist-packages (from google-auth<3,>=1.6.3->tensorboard<2.12,>=2.11->tensorflow>=2.1.0->stellargraph) (5.3.0)\n",
            "Requirement already satisfied: requests-oauthlib>=0.7.0 in /usr/local/lib/python3.8/dist-packages (from google-auth-oauthlib<0.5,>=0.4.1->tensorboard<2.12,>=2.11->tensorflow>=2.1.0->stellargraph) (1.3.1)\n",
            "Requirement already satisfied: importlib-metadata>=4.4 in /usr/local/lib/python3.8/dist-packages (from markdown>=2.6.8->tensorboard<2.12,>=2.11->tensorflow>=2.1.0->stellargraph) (6.0.0)\n",
            "Requirement already satisfied: idna<3,>=2.5 in /usr/local/lib/python3.8/dist-packages (from requests<3,>=2.21.0->tensorboard<2.12,>=2.11->tensorflow>=2.1.0->stellargraph) (2.10)\n",
            "Requirement already satisfied: certifi>=2017.4.17 in /usr/local/lib/python3.8/dist-packages (from requests<3,>=2.21.0->tensorboard<2.12,>=2.11->tensorflow>=2.1.0->stellargraph) (2022.12.7)\n",
            "Requirement already satisfied: chardet<5,>=3.0.2 in /usr/local/lib/python3.8/dist-packages (from requests<3,>=2.21.0->tensorboard<2.12,>=2.11->tensorflow>=2.1.0->stellargraph) (4.0.0)\n",
            "Requirement already satisfied: urllib3<1.27,>=1.21.1 in /usr/local/lib/python3.8/dist-packages (from requests<3,>=2.21.0->tensorboard<2.12,>=2.11->tensorflow>=2.1.0->stellargraph) (1.24.3)\n",
            "Requirement already satisfied: zipp>=0.5 in /usr/local/lib/python3.8/dist-packages (from importlib-metadata>=4.4->markdown>=2.6.8->tensorboard<2.12,>=2.11->tensorflow>=2.1.0->stellargraph) (3.12.1)\n",
            "Requirement already satisfied: pyasn1<0.5.0,>=0.4.6 in /usr/local/lib/python3.8/dist-packages (from pyasn1-modules>=0.2.1->google-auth<3,>=1.6.3->tensorboard<2.12,>=2.11->tensorflow>=2.1.0->stellargraph) (0.4.8)\n",
            "Requirement already satisfied: oauthlib>=3.0.0 in /usr/local/lib/python3.8/dist-packages (from requests-oauthlib>=0.7.0->google-auth-oauthlib<0.5,>=0.4.1->tensorboard<2.12,>=2.11->tensorflow>=2.1.0->stellargraph) (3.2.2)\n"
          ]
        }
      ],
      "source": [
        "!pip install stellargraph"
      ]
    },
    {
      "cell_type": "code",
      "execution_count": 5,
      "metadata": {
        "id": "0u03zYrojU1N"
      },
      "outputs": [],
      "source": [
        "import stellargraph as sg\n",
        "from stellargraph.mapper import PaddedGraphGenerator\n",
        "from stellargraph.layer import GCNSupervisedGraphClassification\n",
        "from stellargraph import StellarGraph"
      ]
    },
    {
      "cell_type": "code",
      "execution_count": 6,
      "metadata": {
        "id": "9MN9Y_uujXaJ"
      },
      "outputs": [],
      "source": [
        "from sklearn import model_selection\n",
        "from sklearn.metrics import confusion_matrix,auc,precision_recall_curve,roc_curve\n",
        "from tensorflow.keras import Model\n",
        "from tensorflow.keras.layers import Dense\n",
        "from tensorflow.keras.optimizers import Adam\n",
        "from tensorflow.keras.losses import binary_crossentropy,mean_squared_error\n",
        "from tensorflow.keras.callbacks import EarlyStopping\n",
        "import tensorflow as tf\n",
        "from stellargraph import IndexedArray"
      ]
    },
    {
      "cell_type": "code",
      "execution_count": 7,
      "metadata": {
        "id": "_djj6tbPjZBN"
      },
      "outputs": [],
      "source": [
        "import itertools\n",
        "import matplotlib.pyplot as plt"
      ]
    },
    {
      "cell_type": "code",
      "execution_count": 8,
      "metadata": {
        "id": "O3Sruuy_ja7w"
      },
      "outputs": [],
      "source": [
        "def read_para(path):\n",
        "    df = pd.read_csv(path,sep='\\t',header=None)\n",
        "    dic = {}\n",
        "    for i in range(df.shape[0]):\n",
        "        hla = df[0].iloc[i]\n",
        "        paratope = df[1].iloc[i]\n",
        "        try:\n",
        "            dic[hla] = paratope\n",
        "        except KeyError:\n",
        "            dic[hla] = []\n",
        "            dic[hla].append(paratope)\n",
        "    return dic"
      ]
    },
    {
      "cell_type": "code",
      "execution_count": 9,
      "metadata": {
        "id": "yMUQC2OvjdjU"
      },
      "outputs": [],
      "source": [
        "def dict_inventory(inventory):\n",
        "    dicA, dicB, dicC = {}, {}, {}\n",
        "    dic = {'A': dicA, 'B': dicB, 'C': dicC}\n",
        "\n",
        "    for hla in inventory:\n",
        "        type_ = hla[4]  # A,B,C\n",
        "        first2 = hla[6:8]  # 01\n",
        "        last2 = hla[8:]  # 01\n",
        "        try:\n",
        "            dic[type_][first2].append(last2)\n",
        "        except KeyError:\n",
        "            dic[type_][first2] = []\n",
        "            dic[type_][first2].append(last2)\n",
        "\n",
        "    return dic"
      ]
    },
    {
      "cell_type": "code",
      "execution_count": 10,
      "metadata": {
        "id": "LT2BRSN1jfqU"
      },
      "outputs": [],
      "source": [
        "def rescue_unknown_hla(hla, dic_inventory):\n",
        "    type_ = hla[4]\n",
        "    first2 = hla[6:8]\n",
        "    last2 = hla[8:]\n",
        "    big_category = dic_inventory[type_]\n",
        "    #print(hla)\n",
        "    if not big_category.get(first2) == None:\n",
        "        small_category = big_category.get(first2)\n",
        "        distance = [abs(int(last2) - int(i)) for i in small_category]\n",
        "        optimal = min(zip(small_category, distance), key=lambda x: x[1])[0]\n",
        "        return 'HLA-' + str(type_) + '*' + str(first2) + str(optimal)\n",
        "    else:\n",
        "        small_category = list(big_category.keys())\n",
        "        distance = [abs(int(first2) - int(i)) for i in small_category]\n",
        "        optimal = min(zip(small_category, distance), key=lambda x: x[1])[0]\n",
        "        return 'HLA-' + str(type_) + '*' + str(optimal) + str(big_category[optimal][0])"
      ]
    },
    {
      "cell_type": "code",
      "execution_count": 11,
      "metadata": {
        "id": "M-2KUy1jjibM"
      },
      "outputs": [],
      "source": [
        "class Graph_Constructor():\n",
        "\n",
        "    @staticmethod\n",
        "    def combinator(pep,hla):\n",
        "        source = ['p' + str(i+1) for i in range(len(pep))]\n",
        "        target = ['h' + str(i+1) for i in range(len(hla))]\n",
        "        return source,target\n",
        "\n",
        "    @staticmethod\n",
        "    def numerical(pep,hla,after_pca,embed=12):   # after_pca [21,12]\n",
        "        pep = pep.replace('X','-').upper()\n",
        "        hla = hla.replace('X','-').upper()\n",
        "        feature_array_pep = np.empty([len(pep),embed])\n",
        "        feature_array_hla = np.empty([len(hla),embed])\n",
        "        amino = 'ARNDCQEGHILKMFPSTWYV-'\n",
        "        for i in range(len(pep)):\n",
        "            feature_array_pep[i,:] = after_pca[amino.index(pep[i]),:]\n",
        "        for i in range(len(hla)):\n",
        "            feature_array_hla[i,:] = after_pca[amino.index(hla[i]),:]\n",
        "        feature_array = np.concatenate([feature_array_pep,feature_array_hla],axis=0)\n",
        "        #print(feature_array_pep.shape,feature_array_hla.shape,feature_array.shape)\n",
        "        return feature_array\n",
        "\n",
        "    @staticmethod\n",
        "    def unweight_edge(pep,hla,after_pca):\n",
        "        source,target = Graph_Constructor.combinator(pep,hla)\n",
        "        combine = list(itertools.product(source,target))\n",
        "        weight = itertools.repeat(1,len(source)*len(target))\n",
        "        edges = pd.DataFrame({'source':[item[0] for item in combine],'target':[item[1] for item in combine],'weight':weight})\n",
        "        feature_array = Graph_Constructor.numerical(pep,hla,after_pca)\n",
        "        try:nodes = IndexedArray(feature_array,index=source+target)\n",
        "        except: print(pep,hla,feature_array.shape)\n",
        "        graph = StellarGraph(nodes,edges,node_type_default='corner',edge_type_default='line')\n",
        "        return graph\n",
        "\n",
        "\n",
        "    @staticmethod\n",
        "    def Update_Edges(pep,hla,edges):\n",
        "      #print(\"edges\",edges)\n",
        "\n",
        "      #pep = \"KEHVFFSEY\"\n",
        "      #hla = \"MMMMYYTMMKKRKYREISNT-ENNTT--YIYDYTKWVVQDYLSRY-\"\n",
        "\n",
        "      edges_weights = pd.read_csv('Edge_Weights_V3.txt',sep='\\t',header = None)\n",
        "      amino = 'ARNDCQEGHILKMFPSTWYV-'  \n",
        "\n",
        "      edges_weights[20] = 0\n",
        "      new_row = {0:0, 1:0, 2:0, 3:0, 4:0, 5:0, 6:0, 7:0, 8:0, 9:0, 10:0, 11:0, 12:0, 13:0, 14:0, 15:0, 16:0, 17:0, 18:0, 19:0, 20:0 }\n",
        "      edges_weights = edges_weights.append(new_row, ignore_index=True)\n",
        "\n",
        "      edges['weight'] = edges['weight'].astype(float)\n",
        "\n",
        "\n",
        "      for i in range(0, len(edges)):\n",
        "        #print(i,edges.iloc[i]['source'], edges.iloc[i]['target'],edges.iloc[i]['weight'])\n",
        "\n",
        "        if ((edges.iloc[i]['source'][0] == \"p\") and (edges.iloc[i]['target'][0] == \"p\")):\n",
        "          \n",
        "          #print(i, (pep[(int([edges.iloc[i]['source'][1:]][0])-1)]), (pep[(int(([edges.iloc[i]['target'][1:]][0]))-1)]))\n",
        "          #print(amino.index(pep[(int([edges.iloc[i]['source'][1:]][0])-1)]), amino.index(pep[(int([edges.iloc[i]['target'][1:]][0])-1)]))\n",
        "          #print(\"Weight to be assigned :\",edges_weights[amino.index(pep[(int([edges.iloc[i]['target'][1:]][0])-1)])][amino.index(pep[(int([edges.iloc[i]['source'][1:]][0])-1)])])\n",
        "\n",
        "          edges.at[i,'weight'] = edges_weights[amino.index(pep[(int([edges.iloc[i]['source'][1:]][0])-1)])][amino.index(pep[(int([edges.iloc[i]['target'][1:]][0])-1)])]\n",
        "          \n",
        "          #print(\"Updated edge weight : \",edges.at[i,'weight'])\n",
        "\n",
        "\n",
        "        elif ((edges.iloc[i]['source'][0] == \"p\") and (edges.iloc[i]['target'][0] == \"h\")):\n",
        "          edges.at[i,'weight'] = edges_weights[amino.index(pep[(int([edges.iloc[i]['source'][1:]][0])-1)])][amino.index(hla[(int([edges.iloc[i]['target'][1:]][0])-1)])]\n",
        "\n",
        "        elif ((edges.iloc[i]['source'][0] == \"h\") and (edges.iloc[i]['target'][0] == \"p\")):\n",
        "          edges.at[i,'weight'] = edges_weights[amino.index(hla[(int([edges.iloc[i]['source'][1:]][0])-1)])][amino.index(pep[(int([edges.iloc[i]['target'][1:]][0])-1)])]\n",
        "\n",
        "        elif ((edges.iloc[i]['source'][0] == \"h\") and (edges.iloc[i]['target'][0] == \"h\")):\n",
        "          edges.at[i,'weight'] = edges_weights[amino.index(hla[(int([edges.iloc[i]['source'][1:]][0])-1)])][amino.index(hla[(int([edges.iloc[i]['target'][1:]][0])-1)])]\n",
        "\n",
        "\n",
        "      #print(\"Printing Again:\")  \n",
        "      #for j in range(0, len(edges)):\n",
        "      #  print(edges.iloc[j]['source'], edges.iloc[j]['target'],edges.iloc[j]['weight'])\n",
        "\n",
        "      return edges   \n",
        "\n",
        "\n",
        "    #Dual Hyper transformation\n",
        "    @staticmethod\n",
        "    def DHT(source,target,edges,feature_array):\n",
        "\n",
        "      new_nodeslist= edges.index.tolist()\n",
        "      New_weights = edges[\"weight\"].tolist()\n",
        "\n",
        "      print(\"new_nodes\", new_nodeslist)\n",
        "      print(\"New_weights\", New_weights)\n",
        "\n",
        "      feature_weights = np.array(New_weights)\n",
        "      feature_weights_new = np.zeros((feature_weights.shape[0], 2))\n",
        "\n",
        "      for i in range(feature_weights_new.shape[0]):\n",
        "        feature_weights_new[i:, 0] = New_weights[i]\n",
        "\n",
        "\n",
        "      print(\"feature_weights_new\",feature_weights_new)\n",
        "      print('feature_array Type',np.shape(feature_weights_new))\n",
        "      print('index Type',np.shape(new_nodeslist))\n",
        "      New_nodes = IndexedArray(feature_weights_new, index=new_nodeslist)\n",
        "\n",
        "      # Finding the pairs\n",
        "      new_substuff = []\n",
        "      for L in range(1):\n",
        "        for subset in itertools.combinations(new_nodeslist, 2):\n",
        "          if len(subset) == 2: \n",
        "            new_substuff.append(subset)\n",
        "\n",
        "      # Converting the pairs to data frames\n",
        "      Edges_df = pd.DataFrame(new_substuff)\n",
        "      Edges_df.columns = [\"Source\", \"Target\"]\n",
        "      Edges_df['Edge'] = ''\n",
        "\n",
        "\n",
        "      print(Edges_df.tail(5))\n",
        "\n",
        "\n",
        "      print(len(Edges_df))\n",
        "      # Updating the edges by referingto edges dataframe\n",
        "      for i in range(len(Edges_df)):  \n",
        "\n",
        "        if((edges.iloc[Edges_df.iloc[i]['Source']]['source']) == (edges.iloc[Edges_df.iloc[i]['Target']]['source'])):\n",
        "          Edges_df.at[i,'Edge'] = edges.iloc[Edges_df.iloc[i]['Source']]['source']\n",
        "\n",
        "        elif ((edges.iloc[Edges_df.iloc[i]['Source']]['target']) == (edges.iloc[Edges_df.iloc[i]['Target']]['target'])):\n",
        "          Edges_df.at[i,'Edge'] = edges.iloc[Edges_df.iloc[i]['Source']]['target']\n",
        "\n",
        "        elif ((edges.iloc[Edges_df.iloc[i]['Source']]['source']) == (edges.iloc[Edges_df.iloc[i]['Target']]['target'])):\n",
        "          Edges_df.at[i,'Edge'] = edges.iloc[Edges_df.iloc[i]['Source']]['source']\n",
        "          \n",
        "        elif ((edges.iloc[Edges_df.iloc[i]['Source']]['target']) == (edges.iloc[Edges_df.iloc[i]['Target']]['source'])):\n",
        "          Edges_df.at[i,'Edge'] = edges.iloc[Edges_df.iloc[i]['Source']]['target']       \n",
        "\n",
        "\n",
        "\n",
        "\n",
        "      print(Edges_df)\n",
        "      print('New Nodes Type',type(New_nodes))\n",
        "      print('Edges_df Type',type(Edges_df))\n",
        "\n",
        "      # test code, pls remove\n",
        "      Edges_df.rename(columns={'Source': 'source', 'Target': 'target', 'Edge': 'weight'}, inplace=True)\n",
        "      Edges_df['weight'] = 1\n",
        "\n",
        "\n",
        "      return New_nodes,Edges_df\n",
        "      #return None\n",
        "\n",
        "\n",
        "\n",
        "    @staticmethod\n",
        "    def weight_anchor_edge(pep,hla,after_pca):\n",
        "        source, target = Graph_Constructor.combinator(pep, hla)\n",
        "        combine = list(itertools.product(source, target))\n",
        "        weight = itertools.repeat(1, len(source) * len(target))\n",
        "        edges = pd.DataFrame({'source': [item[0] for item in combine], 'target': [item[1] for item in combine], 'weight': weight})\n",
        "        for i in range(edges.shape[0]):\n",
        "            col1 = edges.iloc[i]['source']\n",
        "            col2 = edges.iloc[i]['target']\n",
        "            col3 = edges.iloc[i]['weight']\n",
        "            if col1 == 'a2' or col1 == 'a9' or col1 ==  'a10':\n",
        "                edges.iloc[i]['weight'] = 1.5\n",
        "        feature_array = Graph_Constructor.numerical(pep, hla, after_pca)\n",
        "        nodes = IndexedArray(feature_array, index=source + target)\n",
        "        graph = StellarGraph(nodes, edges, node_type_default='corner', edge_type_default='line')\n",
        "        return graph\n",
        "\n",
        "    @staticmethod\n",
        "    def intra_and_inter(pep,hla,after_pca):\n",
        "        source, target = Graph_Constructor.combinator(pep, hla)\n",
        "        combine = list(itertools.product(source, target))\n",
        "        weight = itertools.repeat(2, len(source) * len(target))\n",
        "        edges_inter = pd.DataFrame({'source': [item[0] for item in combine], 'target': [item[1] for item in combine], 'weight': weight})\n",
        "        intra_pep = list(itertools.combinations(source,2))\n",
        "        intra_hla = list(itertools.combinations(target,2))\n",
        "        intra = intra_pep + intra_hla\n",
        "        weight = itertools.repeat(1,len(intra))\n",
        "        edges_intra = pd.DataFrame({'source':[item[0] for item in intra],'target':[item[1] for item in intra],'weight':weight})\n",
        "        edges = pd.concat([edges_inter,edges_intra])\n",
        "        edges = edges.set_index(pd.Index(np.arange(edges.shape[0])))\n",
        "\n",
        "        # Updating Edge weights\n",
        "        Graph_Constructor.Update_Edges(pep,hla,edges)\n",
        "\n",
        "        feature_array = Graph_Constructor.numerical(pep, hla, after_pca)\n",
        "        nodes = IndexedArray(feature_array, index=source + target)\n",
        "        print('feature_array Type',np.shape(feature_array))\n",
        "        print('index Type',np.shape(source+target))\n",
        "\n",
        "        # Dual Hyper Transfer\n",
        "        New_nodes,new_Edges = Graph_Constructor.DHT(source,target,edges,feature_array)\n",
        "        #Graph_Constructor.DHT(source,target,edges,feature_array)\n",
        "\n",
        "\n",
        "\n",
        "        print('Nodes Type',type(nodes))\n",
        "        #print('feature_array',feature_array)\n",
        "        #print('feature_array size',feature_array.shape)\n",
        "        #print('index', source + target)\n",
        "        #print('index len', len(source + target))\n",
        "        print('Edges Type',type(edges))\n",
        "\n",
        "        # Creating DHT graphs\n",
        "        #graph = StellarGraph(nodes, edges, node_type_default='corner', edge_type_default='line')\n",
        "        graph = StellarGraph(New_nodes, new_Edges, node_type_default='corner', edge_type_default='line')\n",
        "        return graph\n",
        "\n",
        "    @staticmethod\n",
        "    def entrance(df,after_pca,hla_dic,dic_inventory):\n",
        "        graphs = []\n",
        "        graph_labels = []\n",
        "        for i in range(df.shape[0]):\n",
        "            print(i)\n",
        "            pep = df['peptide'].iloc[i]\n",
        "            try:\n",
        "                hla = hla_dic[df['HLA'].iloc[i]]\n",
        "            except KeyError:\n",
        "                hla = hla_dic[rescue_unknown_hla(df['HLA'].iloc[i],dic_inventory)]\n",
        "            label = df['immunogenicity'].iloc[i]\n",
        "            #if label != 'Negative': label = 0\n",
        "            #else: label = 1\n",
        "            #graph = Graph_Constructor.unweight_edge(pep,hla,after_pca)\n",
        "            #graph = Graph_Constructor.unweight_edge(pep,hla,after_pca)\n",
        "            graph = Graph_Constructor.intra_and_inter(pep,hla,after_pca)\n",
        "            graphs.append(graph)\n",
        "            graph_labels.append(label)\n",
        "        graph_labels = pd.Series(graph_labels)\n",
        "        return graphs,graph_labels"
      ]
    },
    {
      "cell_type": "code",
      "execution_count": 12,
      "metadata": {
        "id": "URk9LZ5DjnG1"
      },
      "outputs": [],
      "source": [
        "def train_fold(model, train_gen, test_gen, es, epochs):\n",
        "    history = model.fit(\n",
        "        train_gen, epochs=epochs, validation_data=test_gen, verbose=2, callbacks=[es],)\n",
        "    # calculate performance on the test data and return along with history\n",
        "    test_metrics = model.evaluate(test_gen, verbose=0)\n",
        "    test_acc = test_metrics[model.metrics_names.index(\"acc\")]\n",
        "    return history, test_acc"
      ]
    },
    {
      "cell_type": "code",
      "execution_count": 13,
      "metadata": {
        "id": "DS-Bx4MVjpi7"
      },
      "outputs": [],
      "source": [
        "def get_generators(train_index, test_index, graph_labels, batch_size):\n",
        "    train_gen = generator.flow(\n",
        "        train_index, targets=graph_labels.iloc[train_index].values, batch_size=batch_size)\n",
        "    test_gen = generator.flow(\n",
        "        test_index, targets=graph_labels.iloc[test_index].values, batch_size=batch_size)\n",
        "\n",
        "    return train_gen, test_gen"
      ]
    },
    {
      "cell_type": "code",
      "execution_count": 14,
      "metadata": {
        "id": "gfOcMInpjrwL"
      },
      "outputs": [],
      "source": [
        "def draw_ROC(y_true,y_pred):\n",
        "\n",
        "    fpr,tpr,_ = roc_curve(y_true,y_pred,pos_label=1)\n",
        "    area_mine = auc(fpr,tpr)\n",
        "    fig = plt.figure()\n",
        "    lw = 2\n",
        "    plt.plot(fpr, tpr, color='darkorange',\n",
        "            lw=lw, label='ROC curve (area = %0.2f)' % area_mine)\n",
        "    plt.plot([0, 1], [0, 1], color='navy', lw=lw, linestyle='--')\n",
        "    plt.xlim([0.0, 1.0])\n",
        "    plt.ylim([0.0, 1.05])\n",
        "    plt.xlabel('False Positive Rate')\n",
        "    plt.ylabel('True Positive Rate')\n",
        "    plt.title('Receiver operating characteristic example')\n",
        "    plt.legend(loc=\"lower right\")\n",
        "    plt.show()"
      ]
    },
    {
      "cell_type": "code",
      "execution_count": 15,
      "metadata": {
        "id": "BBmvYtCCjuG7"
      },
      "outputs": [],
      "source": [
        "def draw_PR(y_true,y_pred):\n",
        "    precision,recall,_ = precision_recall_curve(y_true,y_pred,pos_label=1)\n",
        "    area_PR = auc(recall,precision)\n",
        "    baseline = np.sum(np.array(y_true) == 1) / len(y_true)\n",
        "\n",
        "    plt.figure()\n",
        "    lw = 2\n",
        "    plt.plot(recall,precision, color='darkorange',\n",
        "            lw=lw, label='PR curve (area = %0.2f)' % area_PR)\n",
        "    plt.plot([0, 1], [baseline, baseline], color='navy', lw=lw, linestyle='--')\n",
        "    plt.xlim([0.0, 1.0])\n",
        "    plt.ylim([0.0, 1.05])\n",
        "    plt.xlabel('Recall')\n",
        "    plt.ylabel('Precision')\n",
        "    plt.title('PR curve example')\n",
        "    plt.legend(loc=\"lower right\")\n",
        "    plt.show()"
      ]
    },
    {
      "cell_type": "code",
      "execution_count": 16,
      "metadata": {
        "id": "gxeyI6IkjvqX"
      },
      "outputs": [],
      "source": [
        "def draw_history(history):\n",
        "    plt.subplot(211)\n",
        "    plt.title('Loss')\n",
        "    plt.plot(history.history['loss'], label='train')\n",
        "    plt.plot(history.history['val_loss'], label='validation')\n",
        "    plt.legend()\n",
        "    # plot accuracy during training\n",
        "    plt.subplot(212)\n",
        "    plt.title('Accuracy')\n",
        "    plt.plot(history.history['acc'], label='train')\n",
        "    plt.plot(history.history['val_acc'], label='validation')\n",
        "    plt.legend()\n",
        "    plt.show()"
      ]
    },
    {
      "cell_type": "code",
      "execution_count": 17,
      "metadata": {
        "id": "1g852uBrjyMu"
      },
      "outputs": [],
      "source": [
        "def hla_df_to_dic(hla):\n",
        "    dic = {}\n",
        "    for i in range(hla.shape[0]):\n",
        "        col1 = hla['HLA'].iloc[i]  # HLA allele\n",
        "        col2 = hla['pseudo'].iloc[i]  # pseudo sequence\n",
        "        dic[col1] = col2\n",
        "    return dic"
      ]
    },
    {
      "cell_type": "code",
      "execution_count": 18,
      "metadata": {
        "id": "JubOLgE1jzu5"
      },
      "outputs": [],
      "source": [
        "def retain_910(ori):\n",
        "    cond = []\n",
        "    for i in range(ori.shape[0]):\n",
        "        peptide = ori['peptide'].iloc[i]\n",
        "        if len(peptide) == 9 or len(peptide) == 10:\n",
        "            cond.append(True)\n",
        "        else:\n",
        "            cond.append(False)\n",
        "    data = ori.loc[cond]\n",
        "    data = data.set_index(pd.Index(np.arange(data.shape[0])))\n",
        "    return data"
      ]
    },
    {
      "cell_type": "code",
      "execution_count": 19,
      "metadata": {
        "id": "glze8yAakFrq"
      },
      "outputs": [],
      "source": [
        "    #ori_train = pd.read_csv('remove0123_sample100.csv')\n",
        "    #ori_train = pd.read_csv('remove0123_sample100_Test.csv')\n",
        "    ori_train = pd.read_csv('remove0123_test.csv')\n",
        "    hla = pd.read_csv('hla2paratopeTable_aligned.txt',sep='\\t')\n",
        "    after_pca = np.loadtxt('after_pca.txt')\n",
        "    hla_dic = hla_df_to_dic(hla)\n",
        "    inventory = list(hla_dic.keys())\n",
        "    dic_inventory = dict_inventory(inventory)\n",
        "\n",
        "    ori_train['immunogenicity'], ori_train['potential'] = ori_train['potential'], ori_train['immunogenicity']"
      ]
    },
    {
      "cell_type": "code",
      "execution_count": 20,
      "metadata": {
        "colab": {
          "base_uri": "https://localhost:8080/"
        },
        "id": "IB1Tptq3kgVg",
        "outputId": "14f0b69a-6bdc-4df3-d80c-7dd186d68b6a"
      },
      "outputs": [
        {
          "output_type": "stream",
          "name": "stdout",
          "text": [
            "0\n",
            "feature_array Type (55, 12)\n",
            "index Type (55,)\n",
            "new_nodes [0, 1, 2, 3, 4, 5, 6, 7, 8, 9, 10, 11, 12, 13, 14, 15, 16, 17, 18, 19, 20, 21, 22, 23, 24, 25, 26, 27, 28, 29, 30, 31, 32, 33, 34, 35, 36, 37, 38, 39, 40, 41, 42, 43, 44, 45, 46, 47, 48, 49, 50, 51, 52, 53, 54, 55, 56, 57, 58, 59, 60, 61, 62, 63, 64, 65, 66, 67, 68, 69, 70, 71, 72, 73, 74, 75, 76, 77, 78, 79, 80, 81, 82, 83, 84, 85, 86, 87, 88, 89, 90, 91, 92, 93, 94, 95, 96, 97, 98, 99, 100, 101, 102, 103, 104, 105, 106, 107, 108, 109, 110, 111, 112, 113, 114, 115, 116, 117, 118, 119, 120, 121, 122, 123, 124, 125, 126, 127, 128, 129, 130, 131, 132, 133, 134, 135, 136, 137, 138, 139, 140, 141, 142, 143, 144, 145, 146, 147, 148, 149, 150, 151, 152, 153, 154, 155, 156, 157, 158, 159, 160, 161, 162, 163, 164, 165, 166, 167, 168, 169, 170, 171, 172, 173, 174, 175, 176, 177, 178, 179, 180, 181, 182, 183, 184, 185, 186, 187, 188, 189, 190, 191, 192, 193, 194, 195, 196, 197, 198, 199, 200, 201, 202, 203, 204, 205, 206, 207, 208, 209, 210, 211, 212, 213, 214, 215, 216, 217, 218, 219, 220, 221, 222, 223, 224, 225, 226, 227, 228, 229, 230, 231, 232, 233, 234, 235, 236, 237, 238, 239, 240, 241, 242, 243, 244, 245, 246, 247, 248, 249, 250, 251, 252, 253, 254, 255, 256, 257, 258, 259, 260, 261, 262, 263, 264, 265, 266, 267, 268, 269, 270, 271, 272, 273, 274, 275, 276, 277, 278, 279, 280, 281, 282, 283, 284, 285, 286, 287, 288, 289, 290, 291, 292, 293, 294, 295, 296, 297, 298, 299, 300, 301, 302, 303, 304, 305, 306, 307, 308, 309, 310, 311, 312, 313, 314, 315, 316, 317, 318, 319, 320, 321, 322, 323, 324, 325, 326, 327, 328, 329, 330, 331, 332, 333, 334, 335, 336, 337, 338, 339, 340, 341, 342, 343, 344, 345, 346, 347, 348, 349, 350, 351, 352, 353, 354, 355, 356, 357, 358, 359, 360, 361, 362, 363, 364, 365, 366, 367, 368, 369, 370, 371, 372, 373, 374, 375, 376, 377, 378, 379, 380, 381, 382, 383, 384, 385, 386, 387, 388, 389, 390, 391, 392, 393, 394, 395, 396, 397, 398, 399, 400, 401, 402, 403, 404, 405, 406, 407, 408, 409, 410, 411, 412, 413, 414, 415, 416, 417, 418, 419, 420, 421, 422, 423, 424, 425, 426, 427, 428, 429, 430, 431, 432, 433, 434, 435, 436, 437, 438, 439, 440, 441, 442, 443, 444, 445, 446, 447, 448, 449, 450, 451, 452, 453, 454, 455, 456, 457, 458, 459, 460, 461, 462, 463, 464, 465, 466, 467, 468, 469, 470, 471, 472, 473, 474, 475, 476, 477, 478, 479, 480, 481, 482, 483, 484, 485, 486, 487, 488, 489, 490, 491, 492, 493, 494, 495, 496, 497, 498, 499, 500, 501, 502, 503, 504, 505, 506, 507, 508, 509, 510, 511, 512, 513, 514, 515, 516, 517, 518, 519, 520, 521, 522, 523, 524, 525, 526, 527, 528, 529, 530, 531, 532, 533, 534, 535, 536, 537, 538, 539, 540, 541, 542, 543, 544, 545, 546, 547, 548, 549, 550, 551, 552, 553, 554, 555, 556, 557, 558, 559, 560, 561, 562, 563, 564, 565, 566, 567, 568, 569, 570, 571, 572, 573, 574, 575, 576, 577, 578, 579, 580, 581, 582, 583, 584, 585, 586, 587, 588, 589, 590, 591, 592, 593, 594, 595, 596, 597, 598, 599, 600, 601, 602, 603, 604, 605, 606, 607, 608, 609, 610, 611, 612, 613, 614, 615, 616, 617, 618, 619, 620, 621, 622, 623, 624, 625, 626, 627, 628, 629, 630, 631, 632, 633, 634, 635, 636, 637, 638, 639, 640, 641, 642, 643, 644, 645, 646, 647, 648, 649, 650, 651, 652, 653, 654, 655, 656, 657, 658, 659, 660, 661, 662, 663, 664, 665, 666, 667, 668, 669, 670, 671, 672, 673, 674, 675, 676, 677, 678, 679, 680, 681, 682, 683, 684, 685, 686, 687, 688, 689, 690, 691, 692, 693, 694, 695, 696, 697, 698, 699, 700, 701, 702, 703, 704, 705, 706, 707, 708, 709, 710, 711, 712, 713, 714, 715, 716, 717, 718, 719, 720, 721, 722, 723, 724, 725, 726, 727, 728, 729, 730, 731, 732, 733, 734, 735, 736, 737, 738, 739, 740, 741, 742, 743, 744, 745, 746, 747, 748, 749, 750, 751, 752, 753, 754, 755, 756, 757, 758, 759, 760, 761, 762, 763, 764, 765, 766, 767, 768, 769, 770, 771, 772, 773, 774, 775, 776, 777, 778, 779, 780, 781, 782, 783, 784, 785, 786, 787, 788, 789, 790, 791, 792, 793, 794, 795, 796, 797, 798, 799, 800, 801, 802, 803, 804, 805, 806, 807, 808, 809, 810, 811, 812, 813, 814, 815, 816, 817, 818, 819, 820, 821, 822, 823, 824, 825, 826, 827, 828, 829, 830, 831, 832, 833, 834, 835, 836, 837, 838, 839, 840, 841, 842, 843, 844, 845, 846, 847, 848, 849, 850, 851, 852, 853, 854, 855, 856, 857, 858, 859, 860, 861, 862, 863, 864, 865, 866, 867, 868, 869, 870, 871, 872, 873, 874, 875, 876, 877, 878, 879, 880, 881, 882, 883, 884, 885, 886, 887, 888, 889, 890, 891, 892, 893, 894, 895, 896, 897, 898, 899, 900, 901, 902, 903, 904, 905, 906, 907, 908, 909, 910, 911, 912, 913, 914, 915, 916, 917, 918, 919, 920, 921, 922, 923, 924, 925, 926, 927, 928, 929, 930, 931, 932, 933, 934, 935, 936, 937, 938, 939, 940, 941, 942, 943, 944, 945, 946, 947, 948, 949, 950, 951, 952, 953, 954, 955, 956, 957, 958, 959, 960, 961, 962, 963, 964, 965, 966, 967, 968, 969, 970, 971, 972, 973, 974, 975, 976, 977, 978, 979, 980, 981, 982, 983, 984, 985, 986, 987, 988, 989, 990, 991, 992, 993, 994, 995, 996, 997, 998, 999, 1000, 1001, 1002, 1003, 1004, 1005, 1006, 1007, 1008, 1009, 1010, 1011, 1012, 1013, 1014, 1015, 1016, 1017, 1018, 1019, 1020, 1021, 1022, 1023, 1024, 1025, 1026, 1027, 1028, 1029, 1030, 1031, 1032, 1033, 1034, 1035, 1036, 1037, 1038, 1039, 1040, 1041, 1042, 1043, 1044, 1045, 1046, 1047, 1048, 1049, 1050, 1051, 1052, 1053, 1054, 1055, 1056, 1057, 1058, 1059, 1060, 1061, 1062, 1063, 1064, 1065, 1066, 1067, 1068, 1069, 1070, 1071, 1072, 1073, 1074, 1075, 1076, 1077, 1078, 1079, 1080, 1081, 1082, 1083, 1084, 1085, 1086, 1087, 1088, 1089, 1090, 1091, 1092, 1093, 1094, 1095, 1096, 1097, 1098, 1099, 1100, 1101, 1102, 1103, 1104, 1105, 1106, 1107, 1108, 1109, 1110, 1111, 1112, 1113, 1114, 1115, 1116, 1117, 1118, 1119, 1120, 1121, 1122, 1123, 1124, 1125, 1126, 1127, 1128, 1129, 1130, 1131, 1132, 1133, 1134, 1135, 1136, 1137, 1138, 1139, 1140, 1141, 1142, 1143, 1144, 1145, 1146, 1147, 1148, 1149, 1150, 1151, 1152, 1153, 1154, 1155, 1156, 1157, 1158, 1159, 1160, 1161, 1162, 1163, 1164, 1165, 1166, 1167, 1168, 1169, 1170, 1171, 1172, 1173, 1174, 1175, 1176, 1177, 1178, 1179, 1180, 1181, 1182, 1183, 1184, 1185, 1186, 1187, 1188, 1189, 1190, 1191, 1192, 1193, 1194, 1195, 1196, 1197, 1198, 1199, 1200, 1201, 1202, 1203, 1204, 1205, 1206, 1207, 1208, 1209, 1210, 1211, 1212, 1213, 1214, 1215, 1216, 1217, 1218, 1219, 1220, 1221, 1222, 1223, 1224, 1225, 1226, 1227, 1228, 1229, 1230, 1231, 1232, 1233, 1234, 1235, 1236, 1237, 1238, 1239, 1240, 1241, 1242, 1243, 1244, 1245, 1246, 1247, 1248, 1249, 1250, 1251, 1252, 1253, 1254, 1255, 1256, 1257, 1258, 1259, 1260, 1261, 1262, 1263, 1264, 1265, 1266, 1267, 1268, 1269, 1270, 1271, 1272, 1273, 1274, 1275, 1276, 1277, 1278, 1279, 1280, 1281, 1282, 1283, 1284, 1285, 1286, 1287, 1288, 1289, 1290, 1291, 1292, 1293, 1294, 1295, 1296, 1297, 1298, 1299, 1300, 1301, 1302, 1303, 1304, 1305, 1306, 1307, 1308, 1309, 1310, 1311, 1312, 1313, 1314, 1315, 1316, 1317, 1318, 1319, 1320, 1321, 1322, 1323, 1324, 1325, 1326, 1327, 1328, 1329, 1330, 1331, 1332, 1333, 1334, 1335, 1336, 1337, 1338, 1339, 1340, 1341, 1342, 1343, 1344, 1345, 1346, 1347, 1348, 1349, 1350, 1351, 1352, 1353, 1354, 1355, 1356, 1357, 1358, 1359, 1360, 1361, 1362, 1363, 1364, 1365, 1366, 1367, 1368, 1369, 1370, 1371, 1372, 1373, 1374, 1375, 1376, 1377, 1378, 1379, 1380, 1381, 1382, 1383, 1384, 1385, 1386, 1387, 1388, 1389, 1390, 1391, 1392, 1393, 1394, 1395, 1396, 1397, 1398, 1399, 1400, 1401, 1402, 1403, 1404, 1405, 1406, 1407, 1408, 1409, 1410, 1411, 1412, 1413, 1414, 1415, 1416, 1417, 1418, 1419, 1420, 1421, 1422, 1423, 1424, 1425, 1426, 1427, 1428, 1429, 1430, 1431, 1432, 1433, 1434, 1435, 1436, 1437, 1438, 1439, 1440, 1441, 1442, 1443, 1444, 1445, 1446, 1447, 1448, 1449, 1450, 1451, 1452, 1453, 1454, 1455, 1456, 1457, 1458, 1459, 1460, 1461, 1462, 1463, 1464, 1465, 1466, 1467, 1468, 1469, 1470, 1471, 1472, 1473, 1474, 1475, 1476, 1477, 1478, 1479, 1480, 1481, 1482, 1483, 1484]\n",
            "New_weights [0.0, 0.0, 0.0, 0.66928943, 0.52435182, 0.52435182, 0.61156025, 0.0, 0.0, 0.0, 0.0, 0.0, 0.75298916, 0.52435182, 0.72631742, 0.44253173, 0.61973258, 0.616362, 0.58355199, 0.61156025, 0.0, 0.44253173, 0.58355199, 0.58355199, 0.61156025, 0.61156025, 0.0, 0.0, 0.52435182, 0.61973258, 0.52435182, 0.45939123, 0.52435182, 0.61156025, 0.75298916, 0.54440127, 0.65790049, 0.65790049, 0.58286157, 0.45939123, 0.52435182, 0.6399278, 0.616362, 0.72631742, 0.52435182, 0.0, 0.0, 0.0, 0.0, 0.64424876, 0.53853136, 0.53853136, 0.58441928, 0.0, 0.0, 0.0, 0.0, 0.0, 0.44253173, 0.53853136, 0.41272165, 0.68926658, 0.62484431, 0.57471631, 0.5654205, 0.58441928, 0.0, 0.68926658, 0.5654205, 0.5654205, 0.58441928, 0.58441928, 0.0, 0.0, 0.53853136, 0.62484431, 0.53853136, 0.64956684, 0.53853136, 0.58441928, 0.44253173, 0.56558073, 0.64596117, 0.64596117, 0.59670203, 0.64956684, 0.53853136, 0.64261399, 0.57471631, 0.41272165, 0.53853136, 0.0, 0.0, 0.0, 0.0, 0.51422007, 0.45086747, 0.45086747, 0.52866965, 0.0, 0.0, 0.0, 0.0, 0.0, 0.63381745, 0.45086747, 0.55084946, 0.51100262, 0.54353752, 0.52713564, 0.52598126, 0.52866965, 0.0, 0.51100262, 0.52598126, 0.52598126, 0.52866965, 0.52866965, 0.0, 0.0, 0.45086747, 0.54353752, 0.45086747, 0.48061146, 0.45086747, 0.52866965, 0.63381745, 0.44850462, 0.54199409, 0.54199409, 0.57128088, 0.48061146, 0.45086747, 0.52928313, 0.52713564, 0.55084946, 0.45086747, 0.0, 0.0, 0.0, 0.0, 0.42075861, 0.46398044, 0.46398044, 0.55652391, 0.0, 0.0, 0.0, 0.0, 0.0, 0.65790049, 0.46398044, 0.59580881, 0.64596117, 0.36415286, 0.58754996, 0.63026526, 0.55652391, 0.0, 0.64596117, 0.63026526, 0.63026526, 0.55652391, 0.55652391, 0.0, 0.0, 0.46398044, 0.36415286, 0.46398044, 0.68359745, 0.46398044, 0.55652391, 0.65790049, 0.43786861, 0.36327849, 0.36327849, 0.59142746, 0.68359745, 0.46398044, 0.38387305, 0.58754996, 0.59580881, 0.46398044, 0.0, 0.0, 0.0, 0.0, 0.33445913, 0.40280404, 0.40280404, 0.52744662, 0.0, 0.0, 0.0, 0.0, 0.0, 0.60282657, 0.40280404, 0.54979129, 0.59555165, 0.34790307, 0.52822468, 0.56936496, 0.52744662, 0.0, 0.59555165, 0.56936496, 0.56936496, 0.52744662, 0.52744662, 0.0, 0.0, 0.40280404, 0.34790307, 0.40280404, 0.61699331, 0.40280404, 0.52744662, 0.60282657, 0.36273822, 0.37379226, 0.37379226, 0.53296946, 0.61699331, 0.40280404, 0.34353065, 0.52822468, 0.54979129, 0.40280404, 0.0, 0.0, 0.0, 0.0, 0.33445913, 0.40280404, 0.40280404, 0.52744662, 0.0, 0.0, 0.0, 0.0, 0.0, 0.60282657, 0.40280404, 0.54979129, 0.59555165, 0.34790307, 0.52822468, 0.56936496, 0.52744662, 0.0, 0.59555165, 0.56936496, 0.56936496, 0.52744662, 0.52744662, 0.0, 0.0, 0.40280404, 0.34790307, 0.40280404, 0.61699331, 0.40280404, 0.52744662, 0.60282657, 0.36273822, 0.37379226, 0.37379226, 0.53296946, 0.61699331, 0.40280404, 0.34353065, 0.52822468, 0.54979129, 0.40280404, 0.0, 0.0, 0.0, 0.0, 0.56782268, 0.54814333, 0.54814333, 0.54861911, 0.0, 0.0, 0.0, 0.0, 0.0, 0.616362, 0.54814333, 0.58783474, 0.57471631, 0.57939115, 0.54390252, 0.55606738, 0.54861911, 0.0, 0.57471631, 0.55606738, 0.55606738, 0.54861911, 0.54861911, 0.0, 0.0, 0.54814333, 0.57939115, 0.54814333, 0.55122142, 0.54814333, 0.54861911, 0.616362, 0.54398598, 0.58754996, 0.58754996, 0.59063388, 0.55122142, 0.54814333, 0.59070347, 0.54390252, 0.58783474, 0.54814333, 0.0, 0.0, 0.0, 0.0, 0.64424876, 0.53853136, 0.53853136, 0.58441928, 0.0, 0.0, 0.0, 0.0, 0.0, 0.44253173, 0.53853136, 0.41272165, 0.68926658, 0.62484431, 0.57471631, 0.5654205, 0.58441928, 0.0, 0.68926658, 0.5654205, 0.5654205, 0.58441928, 0.58441928, 0.0, 0.0, 0.53853136, 0.62484431, 0.53853136, 0.64956684, 0.53853136, 0.58441928, 0.44253173, 0.56558073, 0.64596117, 0.64596117, 0.59670203, 0.64956684, 0.53853136, 0.64261399, 0.57471631, 0.41272165, 0.53853136, 0.0, 0.0, 0.0, 0.0, 0.42209367, 0.44745674, 0.44745674, 0.54807842, 0.0, 0.0, 0.0, 0.0, 0.0, 0.52435182, 0.44745674, 0.49138236, 0.53853136, 0.42508779, 0.54814333, 0.51843755, 0.54807842, 0.0, 0.53853136, 0.51843755, 0.51843755, 0.54807842, 0.54807842, 0.0, 0.0, 0.44745674, 0.42508779, 0.44745674, 0.55006293, 0.44745674, 0.54807842, 0.52435182, 0.4180258, 0.46398044, 0.46398044, 0.49505784, 0.55006293, 0.44745674, 0.44439053, 0.54814333, 0.49138236, 0.44745674, 0.0, 0.44253173, 0.63381745, 0.65790049, 0.60282657, 0.60282657, 0.616362, 0.44253173, 0.52435182, 0.51100262, 0.64596117, 0.59555165, 0.59555165, 0.57471631, 0.68926658, 0.53853136, 0.54199409, 0.47157038, 0.47157038, 0.52713564, 0.51100262, 0.45086747, 0.37379226, 0.37379226, 0.58754996, 0.64596117, 0.46398044, 0.31082132, 0.52822468, 0.59555165, 0.40280404, 0.52822468, 0.59555165, 0.40280404, 0.57471631, 0.54814333, 0.53853136, 0.0, 0.0, 0.0, 0.0, 0.0, 0.0, 0.0, 0.0, 0.0, 0.0, 0.0, 0.0, 0.0, 0.0, 0.0, 0.0, 0.0, 0.0, 0.0, 0.0, 0.0, 0.0, 0.0, 0.0, 0.0, 0.0, 0.0, 0.0, 0.0, 0.0, 0.0, 0.0, 0.0, 0.0, 0.0, 0.0, 0.0, 0.0, 0.0, 0.0, 0.0, 0.0, 0.0, 0.0, 0.0, 0.0, 0.0, 0.0, 0.0, 0.0, 0.0, 0.0, 0.0, 0.0, 0.0, 0.0, 0.0, 0.0, 0.0, 0.0, 0.0, 0.0, 0.0, 0.0, 0.0, 0.0, 0.0, 0.0, 0.0, 0.0, 0.0, 0.0, 0.0, 0.0, 0.0, 0.0, 0.0, 0.0, 0.0, 0.0, 0.0, 0.0, 0.0, 0.0, 0.0, 0.0, 0.0, 0.0, 0.0, 0.0, 0.0, 0.0, 0.0, 0.0, 0.0, 0.0, 0.0, 0.0, 0.0, 0.0, 0.0, 0.0, 0.0, 0.0, 0.0, 0.0, 0.0, 0.0, 0.0, 0.0, 0.0, 0.0, 0.0, 0.0, 0.0, 0.0, 0.0, 0.0, 0.0, 0.0, 0.0, 0.0, 0.0, 0.0, 0.0, 0.0, 0.0, 0.0, 0.0, 0.0, 0.0, 0.0, 0.42209367, 0.42209367, 0.55016339, 0.0, 0.0, 0.0, 0.0, 0.0, 0.66928943, 0.42209367, 0.59897547, 0.64424876, 0.38866619, 0.56782268, 0.60179834, 0.55016339, 0.0, 0.64424876, 0.60179834, 0.60179834, 0.55016339, 0.55016339, 0.0, 0.0, 0.42209367, 0.38866619, 0.42209367, 0.67937677, 0.42209367, 0.55016339, 0.66928943, 0.36457547, 0.42075861, 0.42075861, 0.55746786, 0.67937677, 0.42209367, 0.39423551, 0.56782268, 0.59897547, 0.42209367, 0.0, 0.44745674, 0.54807842, 0.0, 0.0, 0.0, 0.0, 0.0, 0.52435182, 0.44745674, 0.49138236, 0.53853136, 0.42508779, 0.54814333, 0.51843755, 0.54807842, 0.0, 0.53853136, 0.51843755, 0.51843755, 0.54807842, 0.54807842, 0.0, 0.0, 0.44745674, 0.42508779, 0.44745674, 0.55006293, 0.44745674, 0.54807842, 0.52435182, 0.4180258, 0.46398044, 0.46398044, 0.49505784, 0.55006293, 0.44745674, 0.44439053, 0.54814333, 0.49138236, 0.44745674, 0.0, 0.54807842, 0.0, 0.0, 0.0, 0.0, 0.0, 0.52435182, 0.44745674, 0.49138236, 0.53853136, 0.42508779, 0.54814333, 0.51843755, 0.54807842, 0.0, 0.53853136, 0.51843755, 0.51843755, 0.54807842, 0.54807842, 0.0, 0.0, 0.44745674, 0.42508779, 0.44745674, 0.55006293, 0.44745674, 0.54807842, 0.52435182, 0.4180258, 0.46398044, 0.46398044, 0.49505784, 0.55006293, 0.44745674, 0.44439053, 0.54814333, 0.49138236, 0.44745674, 0.0, 0.0, 0.0, 0.0, 0.0, 0.0, 0.61156025, 0.54807842, 0.56275566, 0.58441928, 0.5224789, 0.54861911, 0.55690477, 0.54730244, 0.0, 0.58441928, 0.55690477, 0.55690477, 0.54730244, 0.54730244, 0.0, 0.0, 0.54807842, 0.5224789, 0.54807842, 0.55110014, 0.54807842, 0.54730244, 0.61156025, 0.55283726, 0.55652391, 0.55652391, 0.5631459, 0.55110014, 0.54807842, 0.55082787, 0.54861911, 0.56275566, 0.54807842, 0.0, 0.0, 0.0, 0.0, 0.0, 0.0, 0.0, 0.0, 0.0, 0.0, 0.0, 0.0, 0.0, 0.0, 0.0, 0.0, 0.0, 0.0, 0.0, 0.0, 0.0, 0.0, 0.0, 0.0, 0.0, 0.0, 0.0, 0.0, 0.0, 0.0, 0.0, 0.0, 0.0, 0.0, 0.0, 0.0, 0.0, 0.0, 0.0, 0.0, 0.0, 0.0, 0.0, 0.0, 0.0, 0.0, 0.0, 0.0, 0.0, 0.0, 0.0, 0.0, 0.0, 0.0, 0.0, 0.0, 0.0, 0.0, 0.0, 0.0, 0.0, 0.0, 0.0, 0.0, 0.0, 0.0, 0.0, 0.0, 0.0, 0.0, 0.0, 0.0, 0.0, 0.0, 0.0, 0.0, 0.0, 0.0, 0.0, 0.0, 0.0, 0.0, 0.0, 0.0, 0.0, 0.0, 0.0, 0.0, 0.0, 0.0, 0.0, 0.0, 0.0, 0.0, 0.0, 0.0, 0.0, 0.0, 0.0, 0.0, 0.0, 0.0, 0.0, 0.0, 0.0, 0.0, 0.0, 0.0, 0.0, 0.0, 0.0, 0.0, 0.0, 0.0, 0.0, 0.0, 0.0, 0.0, 0.0, 0.0, 0.0, 0.0, 0.0, 0.0, 0.0, 0.0, 0.0, 0.0, 0.0, 0.0, 0.0, 0.0, 0.0, 0.0, 0.0, 0.0, 0.0, 0.0, 0.0, 0.0, 0.0, 0.0, 0.0, 0.0, 0.0, 0.0, 0.0, 0.0, 0.0, 0.0, 0.0, 0.0, 0.0, 0.0, 0.0, 0.0, 0.0, 0.0, 0.0, 0.0, 0.0, 0.0, 0.0, 0.0, 0.0, 0.0, 0.0, 0.0, 0.0, 0.0, 0.0, 0.0, 0.0, 0.0, 0.0, 0.0, 0.0, 0.0, 0.0, 0.0, 0.0, 0.52435182, 0.72631742, 0.44253173, 0.61973258, 0.616362, 0.58355199, 0.61156025, 0.0, 0.44253173, 0.58355199, 0.58355199, 0.61156025, 0.61156025, 0.0, 0.0, 0.52435182, 0.61973258, 0.52435182, 0.45939123, 0.52435182, 0.61156025, 0.75298916, 0.54440127, 0.65790049, 0.65790049, 0.58286157, 0.45939123, 0.52435182, 0.6399278, 0.616362, 0.72631742, 0.52435182, 0.0, 0.49138236, 0.53853136, 0.42508779, 0.54814333, 0.51843755, 0.54807842, 0.0, 0.53853136, 0.51843755, 0.51843755, 0.54807842, 0.54807842, 0.0, 0.0, 0.44745674, 0.42508779, 0.44745674, 0.55006293, 0.44745674, 0.54807842, 0.52435182, 0.4180258, 0.46398044, 0.46398044, 0.49505784, 0.55006293, 0.44745674, 0.44439053, 0.54814333, 0.49138236, 0.44745674, 0.0, 0.41272165, 0.57854845, 0.58783474, 0.55090536, 0.56275566, 0.0, 0.41272165, 0.55090536, 0.55090536, 0.56275566, 0.56275566, 0.0, 0.0, 0.49138236, 0.57854845, 0.49138236, 0.41240795, 0.49138236, 0.56275566, 0.72631742, 0.4825959, 0.59580881, 0.59580881, 0.55182212, 0.41240795, 0.49138236, 0.57896508, 0.58783474, 0.6017993, 0.49138236, 0.0, 0.62484431, 0.57471631, 0.5654205, 0.58441928, 0.0, 0.68926658, 0.5654205, 0.5654205, 0.58441928, 0.58441928, 0.0, 0.0, 0.53853136, 0.62484431, 0.53853136, 0.64956684, 0.53853136, 0.58441928, 0.44253173, 0.56558073, 0.64596117, 0.64596117, 0.59670203, 0.64956684, 0.53853136, 0.64261399, 0.57471631, 0.41272165, 0.53853136, 0.0, 0.57939115, 0.6314078, 0.5224789, 0.0, 0.62484431, 0.6314078, 0.6314078, 0.5224789, 0.5224789, 0.0, 0.0, 0.42508779, 0.33334969, 0.42508779, 0.65147296, 0.42508779, 0.5224789, 0.61973258, 0.39212421, 0.36415286, 0.36415286, 0.57990494, 0.65147296, 0.42508779, 0.34846352, 0.57939115, 0.57854845, 0.42508779, 0.0, 0.55606738, 0.54861911, 0.0, 0.57471631, 0.55606738, 0.55606738, 0.54861911, 0.54861911, 0.0, 0.0, 0.54814333, 0.57939115, 0.54814333, 0.55122142, 0.54814333, 0.54861911, 0.616362, 0.54398598, 0.58754996, 0.58754996, 0.59063388, 0.55122142, 0.54814333, 0.59070347, 0.54390252, 0.58783474, 0.54814333, 0.0, 0.55690477, 0.0, 0.5654205, 0.50375305, 0.50375305, 0.55690477, 0.55690477, 0.0, 0.0, 0.51843755, 0.6314078, 0.51843755, 0.51860574, 0.51843755, 0.55690477, 0.58355199, 0.53920504, 0.63026526, 0.63026526, 0.55408092, 0.51860574, 0.51843755, 0.62069713, 0.55606738, 0.55090536, 0.51843755, 0.0, 0.0, 0.58441928, 0.55690477, 0.55690477, 0.54730244, 0.54730244, 0.0, 0.0, 0.54807842, 0.5224789, 0.54807842, 0.55110014, 0.54807842, 0.54730244, 0.61156025, 0.55283726, 0.55652391, 0.55652391, 0.5631459, 0.55110014, 0.54807842, 0.55082787, 0.54861911, 0.56275566, 0.54807842, 0.0, 0.0, 0.0, 0.0, 0.0, 0.0, 0.0, 0.0, 0.0, 0.0, 0.0, 0.0, 0.0, 0.0, 0.0, 0.0, 0.0, 0.0, 0.0, 0.0, 0.0, 0.0, 0.0, 0.0, 0.0, 0.0, 0.5654205, 0.5654205, 0.58441928, 0.58441928, 0.0, 0.0, 0.53853136, 0.62484431, 0.53853136, 0.64956684, 0.53853136, 0.58441928, 0.44253173, 0.56558073, 0.64596117, 0.64596117, 0.59670203, 0.64956684, 0.53853136, 0.64261399, 0.57471631, 0.41272165, 0.53853136, 0.0, 0.50375305, 0.55690477, 0.55690477, 0.0, 0.0, 0.51843755, 0.6314078, 0.51843755, 0.51860574, 0.51843755, 0.55690477, 0.58355199, 0.53920504, 0.63026526, 0.63026526, 0.55408092, 0.51860574, 0.51843755, 0.62069713, 0.55606738, 0.55090536, 0.51843755, 0.0, 0.55690477, 0.55690477, 0.0, 0.0, 0.51843755, 0.6314078, 0.51843755, 0.51860574, 0.51843755, 0.55690477, 0.58355199, 0.53920504, 0.63026526, 0.63026526, 0.55408092, 0.51860574, 0.51843755, 0.62069713, 0.55606738, 0.55090536, 0.51843755, 0.0, 0.54730244, 0.0, 0.0, 0.54807842, 0.5224789, 0.54807842, 0.55110014, 0.54807842, 0.54730244, 0.61156025, 0.55283726, 0.55652391, 0.55652391, 0.5631459, 0.55110014, 0.54807842, 0.55082787, 0.54861911, 0.56275566, 0.54807842, 0.0, 0.0, 0.0, 0.54807842, 0.5224789, 0.54807842, 0.55110014, 0.54807842, 0.54730244, 0.61156025, 0.55283726, 0.55652391, 0.55652391, 0.5631459, 0.55110014, 0.54807842, 0.55082787, 0.54861911, 0.56275566, 0.54807842, 0.0, 0.0, 0.0, 0.0, 0.0, 0.0, 0.0, 0.0, 0.0, 0.0, 0.0, 0.0, 0.0, 0.0, 0.0, 0.0, 0.0, 0.0, 0.0, 0.0, 0.0, 0.0, 0.0, 0.0, 0.0, 0.0, 0.0, 0.0, 0.0, 0.0, 0.0, 0.0, 0.0, 0.0, 0.0, 0.0, 0.0, 0.0, 0.42508779, 0.44745674, 0.55006293, 0.44745674, 0.54807842, 0.52435182, 0.4180258, 0.46398044, 0.46398044, 0.49505784, 0.55006293, 0.44745674, 0.44439053, 0.54814333, 0.49138236, 0.44745674, 0.0, 0.42508779, 0.65147296, 0.42508779, 0.5224789, 0.61973258, 0.39212421, 0.36415286, 0.36415286, 0.57990494, 0.65147296, 0.42508779, 0.34846352, 0.57939115, 0.57854845, 0.42508779, 0.0, 0.55006293, 0.44745674, 0.54807842, 0.52435182, 0.4180258, 0.46398044, 0.46398044, 0.49505784, 0.55006293, 0.44745674, 0.44439053, 0.54814333, 0.49138236, 0.44745674, 0.0, 0.55006293, 0.55110014, 0.45939123, 0.57992465, 0.68359745, 0.68359745, 0.58010858, 0.61648838, 0.55006293, 0.67821074, 0.55122142, 0.41240795, 0.55006293, 0.0, 0.54807842, 0.52435182, 0.4180258, 0.46398044, 0.46398044, 0.49505784, 0.55006293, 0.44745674, 0.44439053, 0.54814333, 0.49138236, 0.44745674, 0.0, 0.61156025, 0.55283726, 0.55652391, 0.55652391, 0.5631459, 0.55110014, 0.54807842, 0.55082787, 0.54861911, 0.56275566, 0.54807842, 0.0, 0.54440127, 0.65790049, 0.65790049, 0.58286157, 0.45939123, 0.52435182, 0.6399278, 0.616362, 0.72631742, 0.52435182, 0.0, 0.43786861, 0.43786861, 0.51308635, 0.57992465, 0.4180258, 0.39022306, 0.54398598, 0.4825959, 0.4180258, 0.0, 0.36327849, 0.59142746, 0.68359745, 0.46398044, 0.38387305, 0.58754996, 0.59580881, 0.46398044, 0.0, 0.59142746, 0.68359745, 0.46398044, 0.38387305, 0.58754996, 0.59580881, 0.46398044, 0.0, 0.58010858, 0.49505784, 0.57530902, 0.59063388, 0.55182212, 0.49505784, 0.0, 0.55006293, 0.67821074, 0.55122142, 0.41240795, 0.55006293, 0.0, 0.44439053, 0.54814333, 0.49138236, 0.44745674, 0.0, 0.59070347, 0.57896508, 0.44439053, 0.0, 0.58783474, 0.54814333, 0.0, 0.49138236, 0.0, 0.0]\n",
            "feature_weights_new [[0.         0.        ]\n",
            " [0.         0.        ]\n",
            " [0.         0.        ]\n",
            " ...\n",
            " [0.49138236 0.        ]\n",
            " [0.         0.        ]\n",
            " [0.         0.        ]]\n",
            "feature_array Type (1485, 2)\n",
            "index Type (1485,)\n",
            "         Source  Target Edge\n",
            "1101865    1481    1483     \n",
            "1101866    1481    1484     \n",
            "1101867    1482    1483     \n",
            "1101868    1482    1484     \n",
            "1101869    1483    1484     \n",
            "1101870\n",
            "         Source  Target Edge\n",
            "0             0       1   p1\n",
            "1             0       2   p1\n",
            "2             0       3   p1\n",
            "3             0       4   p1\n",
            "4             0       5   p1\n",
            "...         ...     ...  ...\n",
            "1101865    1481    1483  h46\n",
            "1101866    1481    1484  h46\n",
            "1101867    1482    1483  h44\n",
            "1101868    1482    1484  h45\n",
            "1101869    1483    1484  h46\n",
            "\n",
            "[1101870 rows x 3 columns]\n",
            "New Nodes Type <class 'stellargraph.core.indexed_array.IndexedArray'>\n",
            "Edges_df Type <class 'pandas.core.frame.DataFrame'>\n",
            "Nodes Type <class 'stellargraph.core.indexed_array.IndexedArray'>\n",
            "Edges Type <class 'pandas.core.frame.DataFrame'>\n"
          ]
        }
      ],
      "source": [
        "graphs, graph_labels = Graph_Constructor.entrance(ori_train, after_pca, hla_dic, dic_inventory)\n",
        "generator = PaddedGraphGenerator(graphs=graphs)"
      ]
    },
    {
      "cell_type": "code",
      "execution_count": 21,
      "metadata": {
        "colab": {
          "base_uri": "https://localhost:8080/"
        },
        "id": "1s0QIwX1k4ba",
        "outputId": "d0c644a0-4e94-4595-b651-5354247a8b88"
      },
      "outputs": [
        {
          "output_type": "execute_result",
          "data": {
            "text/plain": [
              "<stellargraph.mapper.padded_graph_generator.PaddedGraphGenerator at 0x7f3f45197850>"
            ]
          },
          "metadata": {},
          "execution_count": 21
        }
      ],
      "source": [
        "generator"
      ]
    },
    {
      "cell_type": "code",
      "execution_count": 22,
      "metadata": {
        "id": "TJ76BTzsk8ii"
      },
      "outputs": [],
      "source": [
        "gc_model = GCNSupervisedGraphClassification(\n",
        "            layer_sizes=[64, 64],\n",
        "            activations=[\"relu\", \"relu\"],\n",
        "            generator=generator,\n",
        "            dropout=0.2, )\n"
      ]
    },
    {
      "cell_type": "code",
      "execution_count": 23,
      "metadata": {
        "id": "-TngJ7NFlBIr"
      },
      "outputs": [],
      "source": [
        "x_inp, x_out = gc_model.in_out_tensors()\n",
        "predictions = Dense(units=32, activation=\"relu\")(x_out)\n",
        "predictions = Dense(units=16, activation=\"relu\")(predictions)\n",
        "predictions = Dense(units=1, activation=\"sigmoid\")(predictions)\n",
        "model = Model(inputs=x_inp, outputs=predictions)"
      ]
    },
    {
      "cell_type": "code",
      "execution_count": 24,
      "metadata": {
        "colab": {
          "base_uri": "https://localhost:8080/"
        },
        "id": "IA7t_nbalGN-",
        "outputId": "1ed01d9b-a211-4482-cc1b-149677d701f2"
      },
      "outputs": [
        {
          "output_type": "execute_result",
          "data": {
            "text/plain": [
              "<keras.engine.functional.Functional at 0x7f3f3cbfbf10>"
            ]
          },
          "metadata": {},
          "execution_count": 24
        }
      ],
      "source": [
        "model"
      ]
    },
    {
      "cell_type": "code",
      "execution_count": 25,
      "metadata": {
        "colab": {
          "base_uri": "https://localhost:8080/"
        },
        "id": "JvdHuT6ulegI",
        "outputId": "288307cd-ba03-4c15-e77f-cda50eecd9a3"
      },
      "outputs": [
        {
          "output_type": "execute_result",
          "data": {
            "text/plain": [
              "[<stellargraph.core.graph.StellarGraph at 0x7f3f451929d0>]"
            ]
          },
          "metadata": {},
          "execution_count": 25
        }
      ],
      "source": [
        "graphs"
      ]
    },
    {
      "cell_type": "code",
      "execution_count": 26,
      "metadata": {
        "colab": {
          "base_uri": "https://localhost:8080/"
        },
        "id": "lomjCQFSljI-",
        "outputId": "8fa8b56b-98af-4efe-be1e-ac22727b05c1"
      },
      "outputs": [
        {
          "output_type": "execute_result",
          "data": {
            "text/plain": [
              "0    0.347444\n",
              "dtype: float64"
            ]
          },
          "metadata": {},
          "execution_count": 26
        }
      ],
      "source": [
        "graph_labels"
      ]
    },
    {
      "cell_type": "code",
      "execution_count": 27,
      "metadata": {
        "id": "vmgWtD-MlSBv"
      },
      "outputs": [],
      "source": [
        "model.compile(optimizer=Adam(0.001), loss=mean_squared_error)"
      ]
    },
    {
      "cell_type": "code",
      "execution_count": 28,
      "metadata": {
        "colab": {
          "base_uri": "https://localhost:8080/"
        },
        "id": "cKtAfZEqnO8C",
        "outputId": "2dffef9e-597f-4257-a09f-24658fae615d"
      },
      "outputs": [
        {
          "output_type": "execute_result",
          "data": {
            "text/plain": [
              "0    0.347444\n",
              "dtype: float64"
            ]
          },
          "metadata": {},
          "execution_count": 28
        }
      ],
      "source": [
        "graph_labels"
      ]
    },
    {
      "cell_type": "code",
      "execution_count": 29,
      "metadata": {
        "colab": {
          "base_uri": "https://localhost:8080/"
        },
        "id": "cx240RwKP45u",
        "outputId": "ffd6a4a4-cbaa-4d5e-88ba-ef7384f17fb9"
      },
      "outputs": [
        {
          "output_type": "stream",
          "name": "stdout",
          "text": [
            "(1, 6)\n",
            "RangeIndex(start=0, stop=1, step=1)\n"
          ]
        }
      ],
      "source": [
        "print(ori_train.shape)\n",
        "print(ori_train.index)\n"
      ]
    },
    {
      "cell_type": "code",
      "execution_count": null,
      "metadata": {
        "id": "zMfhP7jLPChS"
      },
      "outputs": [],
      "source": [
        "train_index, test_index = model_selection.train_test_split(ori_train.index, train_size=0.5)"
      ]
    },
    {
      "cell_type": "code",
      "execution_count": null,
      "metadata": {
        "id": "_bx4_PYISw9i"
      },
      "outputs": [],
      "source": [
        "def get_generators1(train_index, test_index, graph_labels):\n",
        "    train_gen = generator.flow(\n",
        "        train_index, targets=graph_labels.iloc[train_index].values)\n",
        "    test_gen = generator.flow(\n",
        "        test_index, targets=graph_labels.iloc[test_index].values)\n",
        "\n",
        "    return train_gen, test_gen"
      ]
    },
    {
      "cell_type": "code",
      "execution_count": 30,
      "metadata": {
        "colab": {
          "base_uri": "https://localhost:8080/"
        },
        "id": "LOZeag2euig5",
        "outputId": "6467cc99-51af-4a7b-f0e0-6fef304b442d"
      },
      "outputs": [
        {
          "output_type": "execute_result",
          "data": {
            "text/plain": [
              "<stellargraph.core.graph.StellarGraph at 0x7f3f451929d0>"
            ]
          },
          "metadata": {},
          "execution_count": 30
        }
      ],
      "source": [
        "graphs[0]"
      ]
    },
    {
      "cell_type": "code",
      "execution_count": 31,
      "metadata": {
        "colab": {
          "base_uri": "https://localhost:8080/"
        },
        "id": "HoL8Tlhnu42q",
        "outputId": "05e92d8e-f9d4-47b7-d60a-68f647de828e"
      },
      "outputs": [
        {
          "output_type": "stream",
          "name": "stdout",
          "text": [
            "Looking in indexes: https://pypi.org/simple, https://us-python.pkg.dev/colab-wheels/public/simple/\n",
            "Requirement already satisfied: networkx in /usr/local/lib/python3.8/dist-packages (2.6.3)\n"
          ]
        }
      ],
      "source": [
        "#!pip install networkx"
      ]
    },
    {
      "cell_type": "code",
      "execution_count": 32,
      "metadata": {
        "id": "VcgVgUq6u8CA"
      },
      "outputs": [],
      "source": [
        "import networkx as nx\n",
        "import matplotlib.pyplot as plt"
      ]
    },
    {
      "cell_type": "code",
      "execution_count": 33,
      "metadata": {
        "id": "w8ZN4oEC50_o"
      },
      "outputs": [],
      "source": [
        "g0 = StellarGraph.to_networkx(graphs[0])\n",
        "#g1 = StellarGraph.to_networkx(graphs[1])"
      ]
    },
    {
      "cell_type": "code",
      "source": [
        "!pip install 'scipy>=1.8'"
      ],
      "metadata": {
        "colab": {
          "base_uri": "https://localhost:8080/"
        },
        "id": "RP5nH9uWqAEu",
        "outputId": "df22e967-6615-4bc5-f89e-543d6dc8f05e"
      },
      "execution_count": 34,
      "outputs": [
        {
          "output_type": "stream",
          "name": "stdout",
          "text": [
            "Looking in indexes: https://pypi.org/simple, https://us-python.pkg.dev/colab-wheels/public/simple/\n",
            "Requirement already satisfied: scipy>=1.8 in /usr/local/lib/python3.8/dist-packages (1.10.0)\n",
            "Requirement already satisfied: numpy<1.27.0,>=1.19.5 in /usr/local/lib/python3.8/dist-packages (from scipy>=1.8) (1.21.6)\n"
          ]
        }
      ]
    },
    {
      "cell_type": "code",
      "source": [],
      "metadata": {
        "id": "2fQBJjhiqL4j"
      },
      "execution_count": 34,
      "outputs": []
    },
    {
      "cell_type": "code",
      "execution_count": 35,
      "metadata": {
        "colab": {
          "base_uri": "https://localhost:8080/",
          "height": 319
        },
        "id": "WiIs_1dy53mx",
        "outputId": "70537eb3-25d2-468f-a22e-96923b0de7b6"
      },
      "outputs": [
        {
          "output_type": "display_data",
          "data": {
            "text/plain": [
              "<Figure size 432x288 with 1 Axes>"
            ],
            "image/png": "[encoded data removed]"
          },
          "metadata": {}
        }
      ],
      "source": [
        "nx.draw(g0)"
      ]
    },
    {
      "cell_type": "code",
      "execution_count": 105,
      "metadata": {
        "colab": {
          "base_uri": "https://localhost:8080/",
          "height": 165
        },
        "id": "ZcSy8ZG-9FoQ",
        "outputId": "08ace5ce-95be-4c00-890a-072a6a34f33c"
      },
      "outputs": [
        {
          "output_type": "error",
          "ename": "NameError",
          "evalue": "ignored",
          "traceback": [
            "\u001b[0;31m---------------------------------------------------------------------------\u001b[0m",
            "\u001b[0;31mNameError\u001b[0m                                 Traceback (most recent call last)",
            "\u001b[0;32m<ipython-input-105-1ebad0ebeb63>\u001b[0m in \u001b[0;36m<module>\u001b[0;34m\u001b[0m\n\u001b[0;32m----> 1\u001b[0;31m \u001b[0mnx\u001b[0m\u001b[0;34m.\u001b[0m\u001b[0mdraw\u001b[0m\u001b[0;34m(\u001b[0m\u001b[0mg1\u001b[0m\u001b[0;34m)\u001b[0m\u001b[0;34m\u001b[0m\u001b[0;34m\u001b[0m\u001b[0m\n\u001b[0m",
            "\u001b[0;31mNameError\u001b[0m: name 'g1' is not defined"
          ]
        }
      ],
      "source": [
        "nx.draw(g1)"
      ]
    },
    {
      "cell_type": "code",
      "execution_count": null,
      "metadata": {
        "id": "PXA6gs_k0-N0"
      },
      "outputs": [],
      "source": [
        "import pandas as pd\n",
        "from sklearn import model_selection\n",
        "\n",
        "# Use scikit-learn to compute training and test sets\n",
        "train_targets, test_targets = model_selection.train_test_split(graph_labels, train_size=0.5)"
      ]
    },
    {
      "cell_type": "code",
      "execution_count": null,
      "metadata": {
        "colab": {
          "base_uri": "https://localhost:8080/"
        },
        "id": "PNDUr9WJubuz",
        "outputId": "5e2ec2f3-3efb-4e51-fe7e-b10bb2d7b3b5"
      },
      "outputs": [
        {
          "name": "stdout",
          "output_type": "stream",
          "text": [
            "Using GCN (local pooling) filters...\n"
          ]
        }
      ],
      "source": [
        "import stellargraph as sg\n",
        "import tensorflow as tf\n",
        "\n",
        "# convert the raw data into StellarGraph's graph format for faster operations\n",
        "#graph = sg.StellarGraph(nodes, edges)\n",
        "\n",
        "generator = sg.mapper.FullBatchNodeGenerator(graphs[0], method=\"gcn\")\n",
        "\n",
        "# two layers of GCN, each with hidden dimension 16\n",
        "gcn = sg.layer.GCN(layer_sizes=[16, 16], generator=generator)\n",
        "x_inp, x_out = gcn.in_out_tensors() # create the input and output TensorFlow tensors\n",
        "\n",
        "# use TensorFlow Keras to add a layer to compute the (one-hot) predictions\n",
        "predictions = tf.keras.layers.Dense(units=len(train_targets), activation=\"softmax\")(x_out)\n",
        "\n",
        "# use the input and output tensors to create a TensorFlow Keras model\n",
        "model = tf.keras.Model(inputs=x_inp, outputs=predictions)"
      ]
    },
    {
      "cell_type": "code",
      "execution_count": null,
      "metadata": {
        "colab": {
          "base_uri": "https://localhost:8080/"
        },
        "id": "GHbEiVyoEXT7",
        "outputId": "908d6675-956f-4a74-917f-17990bc4d0aa"
      },
      "outputs": [
        {
          "data": {
            "text/plain": [
              "75"
            ]
          },
          "execution_count": 161,
          "metadata": {},
          "output_type": "execute_result"
        }
      ],
      "source": [
        "len(train_targets)"
      ]
    },
    {
      "cell_type": "code",
      "execution_count": null,
      "metadata": {
        "colab": {
          "base_uri": "https://localhost:8080/"
        },
        "id": "4023uAvaUk5u",
        "outputId": "23ee04d8-cbdf-45e3-d888-274464e2f0ce"
      },
      "outputs": [
        {
          "name": "stdout",
          "output_type": "stream",
          "text": [
            "151\n",
            "151\n"
          ]
        }
      ],
      "source": [
        "print(len(graph_labels))\n",
        "print(len(graphs))"
      ]
    },
    {
      "cell_type": "code",
      "execution_count": null,
      "metadata": {
        "id": "Wxzv7fuaUYsv"
      },
      "outputs": [],
      "source": [
        "from sklearn.model_selection import train_test_split\n",
        "x_train, x_test, y_train, y_test = train_test_split(graphs, graph_labels, test_size = 0.33, random_state = 0)"
      ]
    },
    {
      "cell_type": "markdown",
      "metadata": {
        "id": "VzSKM2iCWFnt"
      },
      "source": [
        "#Steller Graphs"
      ]
    },
    {
      "cell_type": "code",
      "execution_count": null,
      "metadata": {
        "colab": {
          "base_uri": "https://localhost:8080/"
        },
        "id": "zQ1W7mlOWFQ7",
        "outputId": "f44d18e0-8890-4c26-a843-fcb80cfcd334"
      },
      "outputs": [
        {
          "name": "stdout",
          "output_type": "stream",
          "text": [
            "StellarGraph: Undirected multigraph\n",
            " Nodes: 56, Edges: 1540\n",
            "\n",
            " Node types:\n",
            "  corner: [56]\n",
            "    Features: float64 vector, length 12\n",
            "    Edge types: corner-line->corner\n",
            "\n",
            " Edge types:\n",
            "    corner-line->corner: [1540]\n",
            "        Weights: range=[0, 0.752989], mean=0.254575, std=0.269054\n",
            "        Features: none\n"
          ]
        }
      ],
      "source": [
        "print(graphs[1].info())"
      ]
    },
    {
      "cell_type": "code",
      "execution_count": null,
      "metadata": {
        "colab": {
          "base_uri": "https://localhost:8080/",
          "height": 300
        },
        "id": "DWTKh4F9ZaYd",
        "outputId": "5b60c5aa-c8c8-4404-d190-498104af374b"
      },
      "outputs": [
        {
          "data": {
            "text/html": [
              "\n",
              "  <div id=\"df-3543968d-3bb5-4532-9da9-209bbd47175b\">\n",
              "    <div class=\"colab-df-container\">\n",
              "      <div>\n",
              "<style scoped>\n",
              "    .dataframe tbody tr th:only-of-type {\n",
              "        vertical-align: middle;\n",
              "    }\n",
              "\n",
              "    .dataframe tbody tr th {\n",
              "        vertical-align: top;\n",
              "    }\n",
              "\n",
              "    .dataframe thead th {\n",
              "        text-align: right;\n",
              "    }\n",
              "</style>\n",
              "<table border=\"1\" class=\"dataframe\">\n",
              "  <thead>\n",
              "    <tr style=\"text-align: right;\">\n",
              "      <th></th>\n",
              "      <th>nodes</th>\n",
              "      <th>edges</th>\n",
              "    </tr>\n",
              "  </thead>\n",
              "  <tbody>\n",
              "    <tr>\n",
              "      <th>count</th>\n",
              "      <td>151.0</td>\n",
              "      <td>151.0</td>\n",
              "    </tr>\n",
              "    <tr>\n",
              "      <th>mean</th>\n",
              "      <td>55.3</td>\n",
              "      <td>1500.3</td>\n",
              "    </tr>\n",
              "    <tr>\n",
              "      <th>std</th>\n",
              "      <td>0.4</td>\n",
              "      <td>24.7</td>\n",
              "    </tr>\n",
              "    <tr>\n",
              "      <th>min</th>\n",
              "      <td>55.0</td>\n",
              "      <td>1485.0</td>\n",
              "    </tr>\n",
              "    <tr>\n",
              "      <th>25%</th>\n",
              "      <td>55.0</td>\n",
              "      <td>1485.0</td>\n",
              "    </tr>\n",
              "    <tr>\n",
              "      <th>50%</th>\n",
              "      <td>55.0</td>\n",
              "      <td>1485.0</td>\n",
              "    </tr>\n",
              "    <tr>\n",
              "      <th>75%</th>\n",
              "      <td>56.0</td>\n",
              "      <td>1540.0</td>\n",
              "    </tr>\n",
              "    <tr>\n",
              "      <th>max</th>\n",
              "      <td>56.0</td>\n",
              "      <td>1540.0</td>\n",
              "    </tr>\n",
              "  </tbody>\n",
              "</table>\n",
              "</div>\n",
              "      <button class=\"colab-df-convert\" onclick=\"convertToInteractive('df-3543968d-3bb5-4532-9da9-209bbd47175b')\"\n",
              "              title=\"Convert this dataframe to an interactive table.\"\n",
              "              style=\"display:none;\">\n",
              "        \n",
              "  <svg xmlns=\"http://www.w3.org/2000/svg\" height=\"24px\"viewBox=\"0 0 24 24\"\n",
              "       width=\"24px\">\n",
              "    <path d=\"M0 0h24v24H0V0z\" fill=\"none\"/>\n",
              "    <path d=\"M18.56 5.44l.94 2.06.94-2.06 2.06-.94-2.06-.94-.94-2.06-.94 2.06-2.06.94zm-11 1L8.5 8.5l.94-2.06 2.06-.94-2.06-.94L8.5 2.5l-.94 2.06-2.06.94zm10 10l.94 2.06.94-2.06 2.06-.94-2.06-.94-.94-2.06-.94 2.06-2.06.94z\"/><path d=\"M17.41 7.96l-1.37-1.37c-.4-.4-.92-.59-1.43-.59-.52 0-1.04.2-1.43.59L10.3 9.45l-7.72 7.72c-.78.78-.78 2.05 0 2.83L4 21.41c.39.39.9.59 1.41.59.51 0 1.02-.2 1.41-.59l7.78-7.78 2.81-2.81c.8-.78.8-2.07 0-2.86zM5.41 20L4 18.59l7.72-7.72 1.47 1.35L5.41 20z\"/>\n",
              "  </svg>\n",
              "      </button>\n",
              "      \n",
              "  <style>\n",
              "    .colab-df-container {\n",
              "      display:flex;\n",
              "      flex-wrap:wrap;\n",
              "      gap: 12px;\n",
              "    }\n",
              "\n",
              "    .colab-df-convert {\n",
              "      background-color: #E8F0FE;\n",
              "      border: none;\n",
              "      border-radius: 50%;\n",
              "      cursor: pointer;\n",
              "      display: none;\n",
              "      fill: #1967D2;\n",
              "      height: 32px;\n",
              "      padding: 0 0 0 0;\n",
              "      width: 32px;\n",
              "    }\n",
              "\n",
              "    .colab-df-convert:hover {\n",
              "      background-color: #E2EBFA;\n",
              "      box-shadow: 0px 1px 2px rgba(60, 64, 67, 0.3), 0px 1px 3px 1px rgba(60, 64, 67, 0.15);\n",
              "      fill: #174EA6;\n",
              "    }\n",
              "\n",
              "    [theme=dark] .colab-df-convert {\n",
              "      background-color: #3B4455;\n",
              "      fill: #D2E3FC;\n",
              "    }\n",
              "\n",
              "    [theme=dark] .colab-df-convert:hover {\n",
              "      background-color: #434B5C;\n",
              "      box-shadow: 0px 1px 3px 1px rgba(0, 0, 0, 0.15);\n",
              "      filter: drop-shadow(0px 1px 2px rgba(0, 0, 0, 0.3));\n",
              "      fill: #FFFFFF;\n",
              "    }\n",
              "  </style>\n",
              "\n",
              "      <script>\n",
              "        const buttonEl =\n",
              "          document.querySelector('#df-3543968d-3bb5-4532-9da9-209bbd47175b button.colab-df-convert');\n",
              "        buttonEl.style.display =\n",
              "          google.colab.kernel.accessAllowed ? 'block' : 'none';\n",
              "\n",
              "        async function convertToInteractive(key) {\n",
              "          const element = document.querySelector('#df-3543968d-3bb5-4532-9da9-209bbd47175b');\n",
              "          const dataTable =\n",
              "            await google.colab.kernel.invokeFunction('convertToInteractive',\n",
              "                                                     [key], {});\n",
              "          if (!dataTable) return;\n",
              "\n",
              "          const docLinkHtml = 'Like what you see? Visit the ' +\n",
              "            '<a target=\"_blank\" href=https://colab.research.google.com/notebooks/data_table.ipynb>data table notebook</a>'\n",
              "            + ' to learn more about interactive tables.';\n",
              "          element.innerHTML = '';\n",
              "          dataTable['output_type'] = 'display_data';\n",
              "          await google.colab.output.renderOutput(dataTable, element);\n",
              "          const docLink = document.createElement('div');\n",
              "          docLink.innerHTML = docLinkHtml;\n",
              "          element.appendChild(docLink);\n",
              "        }\n",
              "      </script>\n",
              "    </div>\n",
              "  </div>\n",
              "  "
            ],
            "text/plain": [
              "       nodes   edges\n",
              "count  151.0   151.0\n",
              "mean    55.3  1500.3\n",
              "std      0.4    24.7\n",
              "min     55.0  1485.0\n",
              "25%     55.0  1485.0\n",
              "50%     55.0  1485.0\n",
              "75%     56.0  1540.0\n",
              "max     56.0  1540.0"
            ]
          },
          "execution_count": 165,
          "metadata": {},
          "output_type": "execute_result"
        }
      ],
      "source": [
        "summary = pd.DataFrame(\n",
        "    [(g.number_of_nodes(), g.number_of_edges()) for g in graphs],\n",
        "    columns=[\"nodes\", \"edges\"],\n",
        ")\n",
        "summary.describe().round(1)"
      ]
    },
    {
      "cell_type": "code",
      "execution_count": null,
      "metadata": {
        "colab": {
          "base_uri": "https://localhost:8080/",
          "height": 423
        },
        "id": "vXA4FdsTapwI",
        "outputId": "75148ecc-1179-4c32-daf9-36cf64dc3fa8"
      },
      "outputs": [
        {
          "data": {
            "text/html": [
              "\n",
              "  <div id=\"df-a0f7859f-30d3-4a3c-8376-8cfd5cee11a7\">\n",
              "    <div class=\"colab-df-container\">\n",
              "      <div>\n",
              "<style scoped>\n",
              "    .dataframe tbody tr th:only-of-type {\n",
              "        vertical-align: middle;\n",
              "    }\n",
              "\n",
              "    .dataframe tbody tr th {\n",
              "        vertical-align: top;\n",
              "    }\n",
              "\n",
              "    .dataframe thead th {\n",
              "        text-align: right;\n",
              "    }\n",
              "</style>\n",
              "<table border=\"1\" class=\"dataframe\">\n",
              "  <thead>\n",
              "    <tr style=\"text-align: right;\">\n",
              "      <th></th>\n",
              "      <th>peptide</th>\n",
              "      <th>HLA</th>\n",
              "      <th>immunogenicity</th>\n",
              "      <th>test</th>\n",
              "      <th>respond</th>\n",
              "      <th>potential</th>\n",
              "    </tr>\n",
              "  </thead>\n",
              "  <tbody>\n",
              "    <tr>\n",
              "      <th>0</th>\n",
              "      <td>ASTNRQSGRK</td>\n",
              "      <td>HLA-A*1101</td>\n",
              "      <td>0.076100</td>\n",
              "      <td>33</td>\n",
              "      <td>0</td>\n",
              "      <td>Negative</td>\n",
              "    </tr>\n",
              "    <tr>\n",
              "      <th>1</th>\n",
              "      <td>PIPSSWAFAK</td>\n",
              "      <td>HLA-A*1101</td>\n",
              "      <td>0.076080</td>\n",
              "      <td>33</td>\n",
              "      <td>0</td>\n",
              "      <td>Negative</td>\n",
              "    </tr>\n",
              "    <tr>\n",
              "      <th>2</th>\n",
              "      <td>HISCLTFGR</td>\n",
              "      <td>HLA-A*1101</td>\n",
              "      <td>0.076066</td>\n",
              "      <td>33</td>\n",
              "      <td>0</td>\n",
              "      <td>Negative</td>\n",
              "    </tr>\n",
              "    <tr>\n",
              "      <th>3</th>\n",
              "      <td>SCIQSQLRK</td>\n",
              "      <td>HLA-A*1101</td>\n",
              "      <td>0.075916</td>\n",
              "      <td>33</td>\n",
              "      <td>0</td>\n",
              "      <td>Negative</td>\n",
              "    </tr>\n",
              "    <tr>\n",
              "      <th>4</th>\n",
              "      <td>SLNFLGGAPK</td>\n",
              "      <td>HLA-A*1101</td>\n",
              "      <td>0.075677</td>\n",
              "      <td>33</td>\n",
              "      <td>0</td>\n",
              "      <td>Negative</td>\n",
              "    </tr>\n",
              "    <tr>\n",
              "      <th>...</th>\n",
              "      <td>...</td>\n",
              "      <td>...</td>\n",
              "      <td>...</td>\n",
              "      <td>...</td>\n",
              "      <td>...</td>\n",
              "      <td>...</td>\n",
              "    </tr>\n",
              "    <tr>\n",
              "      <th>146</th>\n",
              "      <td>AVYGNIKHK</td>\n",
              "      <td>HLA-A*1101</td>\n",
              "      <td>0.974766</td>\n",
              "      <td>1</td>\n",
              "      <td>1</td>\n",
              "      <td>Positive</td>\n",
              "    </tr>\n",
              "    <tr>\n",
              "      <th>147</th>\n",
              "      <td>LLWAARPRL</td>\n",
              "      <td>HLA-A*0201</td>\n",
              "      <td>0.974707</td>\n",
              "      <td>0</td>\n",
              "      <td>0</td>\n",
              "      <td>Positive</td>\n",
              "    </tr>\n",
              "    <tr>\n",
              "      <th>148</th>\n",
              "      <td>GAAFSGVSW</td>\n",
              "      <td>HLA-B*5801</td>\n",
              "      <td>0.974698</td>\n",
              "      <td>0</td>\n",
              "      <td>0</td>\n",
              "      <td>Positive</td>\n",
              "    </tr>\n",
              "    <tr>\n",
              "      <th>149</th>\n",
              "      <td>SVAGRVDGL</td>\n",
              "      <td>HLA-A*0205</td>\n",
              "      <td>0.974642</td>\n",
              "      <td>5</td>\n",
              "      <td>5</td>\n",
              "      <td>Positive</td>\n",
              "    </tr>\n",
              "    <tr>\n",
              "      <th>150</th>\n",
              "      <td>GILGFVFTL</td>\n",
              "      <td>HLA-B*3501</td>\n",
              "      <td>0.974621</td>\n",
              "      <td>9</td>\n",
              "      <td>9</td>\n",
              "      <td>Positive</td>\n",
              "    </tr>\n",
              "  </tbody>\n",
              "</table>\n",
              "<p>151 rows × 6 columns</p>\n",
              "</div>\n",
              "      <button class=\"colab-df-convert\" onclick=\"convertToInteractive('df-a0f7859f-30d3-4a3c-8376-8cfd5cee11a7')\"\n",
              "              title=\"Convert this dataframe to an interactive table.\"\n",
              "              style=\"display:none;\">\n",
              "        \n",
              "  <svg xmlns=\"http://www.w3.org/2000/svg\" height=\"24px\"viewBox=\"0 0 24 24\"\n",
              "       width=\"24px\">\n",
              "    <path d=\"M0 0h24v24H0V0z\" fill=\"none\"/>\n",
              "    <path d=\"M18.56 5.44l.94 2.06.94-2.06 2.06-.94-2.06-.94-.94-2.06-.94 2.06-2.06.94zm-11 1L8.5 8.5l.94-2.06 2.06-.94-2.06-.94L8.5 2.5l-.94 2.06-2.06.94zm10 10l.94 2.06.94-2.06 2.06-.94-2.06-.94-.94-2.06-.94 2.06-2.06.94z\"/><path d=\"M17.41 7.96l-1.37-1.37c-.4-.4-.92-.59-1.43-.59-.52 0-1.04.2-1.43.59L10.3 9.45l-7.72 7.72c-.78.78-.78 2.05 0 2.83L4 21.41c.39.39.9.59 1.41.59.51 0 1.02-.2 1.41-.59l7.78-7.78 2.81-2.81c.8-.78.8-2.07 0-2.86zM5.41 20L4 18.59l7.72-7.72 1.47 1.35L5.41 20z\"/>\n",
              "  </svg>\n",
              "      </button>\n",
              "      \n",
              "  <style>\n",
              "    .colab-df-container {\n",
              "      display:flex;\n",
              "      flex-wrap:wrap;\n",
              "      gap: 12px;\n",
              "    }\n",
              "\n",
              "    .colab-df-convert {\n",
              "      background-color: #E8F0FE;\n",
              "      border: none;\n",
              "      border-radius: 50%;\n",
              "      cursor: pointer;\n",
              "      display: none;\n",
              "      fill: #1967D2;\n",
              "      height: 32px;\n",
              "      padding: 0 0 0 0;\n",
              "      width: 32px;\n",
              "    }\n",
              "\n",
              "    .colab-df-convert:hover {\n",
              "      background-color: #E2EBFA;\n",
              "      box-shadow: 0px 1px 2px rgba(60, 64, 67, 0.3), 0px 1px 3px 1px rgba(60, 64, 67, 0.15);\n",
              "      fill: #174EA6;\n",
              "    }\n",
              "\n",
              "    [theme=dark] .colab-df-convert {\n",
              "      background-color: #3B4455;\n",
              "      fill: #D2E3FC;\n",
              "    }\n",
              "\n",
              "    [theme=dark] .colab-df-convert:hover {\n",
              "      background-color: #434B5C;\n",
              "      box-shadow: 0px 1px 3px 1px rgba(0, 0, 0, 0.15);\n",
              "      filter: drop-shadow(0px 1px 2px rgba(0, 0, 0, 0.3));\n",
              "      fill: #FFFFFF;\n",
              "    }\n",
              "  </style>\n",
              "\n",
              "      <script>\n",
              "        const buttonEl =\n",
              "          document.querySelector('#df-a0f7859f-30d3-4a3c-8376-8cfd5cee11a7 button.colab-df-convert');\n",
              "        buttonEl.style.display =\n",
              "          google.colab.kernel.accessAllowed ? 'block' : 'none';\n",
              "\n",
              "        async function convertToInteractive(key) {\n",
              "          const element = document.querySelector('#df-a0f7859f-30d3-4a3c-8376-8cfd5cee11a7');\n",
              "          const dataTable =\n",
              "            await google.colab.kernel.invokeFunction('convertToInteractive',\n",
              "                                                     [key], {});\n",
              "          if (!dataTable) return;\n",
              "\n",
              "          const docLinkHtml = 'Like what you see? Visit the ' +\n",
              "            '<a target=\"_blank\" href=https://colab.research.google.com/notebooks/data_table.ipynb>data table notebook</a>'\n",
              "            + ' to learn more about interactive tables.';\n",
              "          element.innerHTML = '';\n",
              "          dataTable['output_type'] = 'display_data';\n",
              "          await google.colab.output.renderOutput(dataTable, element);\n",
              "          const docLink = document.createElement('div');\n",
              "          docLink.innerHTML = docLinkHtml;\n",
              "          element.appendChild(docLink);\n",
              "        }\n",
              "      </script>\n",
              "    </div>\n",
              "  </div>\n",
              "  "
            ],
            "text/plain": [
              "        peptide         HLA  immunogenicity  test  respond potential\n",
              "0    ASTNRQSGRK  HLA-A*1101        0.076100    33        0  Negative\n",
              "1    PIPSSWAFAK  HLA-A*1101        0.076080    33        0  Negative\n",
              "2     HISCLTFGR  HLA-A*1101        0.076066    33        0  Negative\n",
              "3     SCIQSQLRK  HLA-A*1101        0.075916    33        0  Negative\n",
              "4    SLNFLGGAPK  HLA-A*1101        0.075677    33        0  Negative\n",
              "..          ...         ...             ...   ...      ...       ...\n",
              "146   AVYGNIKHK  HLA-A*1101        0.974766     1        1  Positive\n",
              "147   LLWAARPRL  HLA-A*0201        0.974707     0        0  Positive\n",
              "148   GAAFSGVSW  HLA-B*5801        0.974698     0        0  Positive\n",
              "149   SVAGRVDGL  HLA-A*0205        0.974642     5        5  Positive\n",
              "150   GILGFVFTL  HLA-B*3501        0.974621     9        9  Positive\n",
              "\n",
              "[151 rows x 6 columns]"
            ]
          },
          "execution_count": 166,
          "metadata": {},
          "output_type": "execute_result"
        }
      ],
      "source": [
        "ori_train"
      ]
    },
    {
      "cell_type": "code",
      "execution_count": null,
      "metadata": {
        "id": "LN8YUUUWbVI3"
      },
      "outputs": [],
      "source": [
        "ori_train1 = ori_train"
      ]
    },
    {
      "cell_type": "code",
      "execution_count": null,
      "metadata": {
        "colab": {
          "base_uri": "https://localhost:8080/",
          "height": 423
        },
        "id": "_r0uZXOAbX1I",
        "outputId": "eef6c7f5-5118-4a43-ca7e-3d8b99e3eb6f"
      },
      "outputs": [
        {
          "data": {
            "text/html": [
              "\n",
              "  <div id=\"df-61dc25e7-557f-47e1-8dd9-1f5c284583c3\">\n",
              "    <div class=\"colab-df-container\">\n",
              "      <div>\n",
              "<style scoped>\n",
              "    .dataframe tbody tr th:only-of-type {\n",
              "        vertical-align: middle;\n",
              "    }\n",
              "\n",
              "    .dataframe tbody tr th {\n",
              "        vertical-align: top;\n",
              "    }\n",
              "\n",
              "    .dataframe thead th {\n",
              "        text-align: right;\n",
              "    }\n",
              "</style>\n",
              "<table border=\"1\" class=\"dataframe\">\n",
              "  <thead>\n",
              "    <tr style=\"text-align: right;\">\n",
              "      <th></th>\n",
              "      <th>peptide</th>\n",
              "      <th>HLA</th>\n",
              "      <th>immunogenicity</th>\n",
              "      <th>test</th>\n",
              "      <th>respond</th>\n",
              "      <th>potential</th>\n",
              "    </tr>\n",
              "  </thead>\n",
              "  <tbody>\n",
              "    <tr>\n",
              "      <th>0</th>\n",
              "      <td>ASTNRQSGRK</td>\n",
              "      <td>HLA-A*1101</td>\n",
              "      <td>0.076100</td>\n",
              "      <td>33</td>\n",
              "      <td>0</td>\n",
              "      <td>Negative</td>\n",
              "    </tr>\n",
              "    <tr>\n",
              "      <th>1</th>\n",
              "      <td>PIPSSWAFAK</td>\n",
              "      <td>HLA-A*1101</td>\n",
              "      <td>0.076080</td>\n",
              "      <td>33</td>\n",
              "      <td>0</td>\n",
              "      <td>Negative</td>\n",
              "    </tr>\n",
              "    <tr>\n",
              "      <th>2</th>\n",
              "      <td>HISCLTFGR</td>\n",
              "      <td>HLA-A*1101</td>\n",
              "      <td>0.076066</td>\n",
              "      <td>33</td>\n",
              "      <td>0</td>\n",
              "      <td>Negative</td>\n",
              "    </tr>\n",
              "    <tr>\n",
              "      <th>3</th>\n",
              "      <td>SCIQSQLRK</td>\n",
              "      <td>HLA-A*1101</td>\n",
              "      <td>0.075916</td>\n",
              "      <td>33</td>\n",
              "      <td>0</td>\n",
              "      <td>Negative</td>\n",
              "    </tr>\n",
              "    <tr>\n",
              "      <th>4</th>\n",
              "      <td>SLNFLGGAPK</td>\n",
              "      <td>HLA-A*1101</td>\n",
              "      <td>0.075677</td>\n",
              "      <td>33</td>\n",
              "      <td>0</td>\n",
              "      <td>Negative</td>\n",
              "    </tr>\n",
              "    <tr>\n",
              "      <th>...</th>\n",
              "      <td>...</td>\n",
              "      <td>...</td>\n",
              "      <td>...</td>\n",
              "      <td>...</td>\n",
              "      <td>...</td>\n",
              "      <td>...</td>\n",
              "    </tr>\n",
              "    <tr>\n",
              "      <th>146</th>\n",
              "      <td>AVYGNIKHK</td>\n",
              "      <td>HLA-A*1101</td>\n",
              "      <td>0.974766</td>\n",
              "      <td>1</td>\n",
              "      <td>1</td>\n",
              "      <td>Positive</td>\n",
              "    </tr>\n",
              "    <tr>\n",
              "      <th>147</th>\n",
              "      <td>LLWAARPRL</td>\n",
              "      <td>HLA-A*0201</td>\n",
              "      <td>0.974707</td>\n",
              "      <td>0</td>\n",
              "      <td>0</td>\n",
              "      <td>Positive</td>\n",
              "    </tr>\n",
              "    <tr>\n",
              "      <th>148</th>\n",
              "      <td>GAAFSGVSW</td>\n",
              "      <td>HLA-B*5801</td>\n",
              "      <td>0.974698</td>\n",
              "      <td>0</td>\n",
              "      <td>0</td>\n",
              "      <td>Positive</td>\n",
              "    </tr>\n",
              "    <tr>\n",
              "      <th>149</th>\n",
              "      <td>SVAGRVDGL</td>\n",
              "      <td>HLA-A*0205</td>\n",
              "      <td>0.974642</td>\n",
              "      <td>5</td>\n",
              "      <td>5</td>\n",
              "      <td>Positive</td>\n",
              "    </tr>\n",
              "    <tr>\n",
              "      <th>150</th>\n",
              "      <td>GILGFVFTL</td>\n",
              "      <td>HLA-B*3501</td>\n",
              "      <td>0.974621</td>\n",
              "      <td>9</td>\n",
              "      <td>9</td>\n",
              "      <td>Positive</td>\n",
              "    </tr>\n",
              "  </tbody>\n",
              "</table>\n",
              "<p>151 rows × 6 columns</p>\n",
              "</div>\n",
              "      <button class=\"colab-df-convert\" onclick=\"convertToInteractive('df-61dc25e7-557f-47e1-8dd9-1f5c284583c3')\"\n",
              "              title=\"Convert this dataframe to an interactive table.\"\n",
              "              style=\"display:none;\">\n",
              "        \n",
              "  <svg xmlns=\"http://www.w3.org/2000/svg\" height=\"24px\"viewBox=\"0 0 24 24\"\n",
              "       width=\"24px\">\n",
              "    <path d=\"M0 0h24v24H0V0z\" fill=\"none\"/>\n",
              "    <path d=\"M18.56 5.44l.94 2.06.94-2.06 2.06-.94-2.06-.94-.94-2.06-.94 2.06-2.06.94zm-11 1L8.5 8.5l.94-2.06 2.06-.94-2.06-.94L8.5 2.5l-.94 2.06-2.06.94zm10 10l.94 2.06.94-2.06 2.06-.94-2.06-.94-.94-2.06-.94 2.06-2.06.94z\"/><path d=\"M17.41 7.96l-1.37-1.37c-.4-.4-.92-.59-1.43-.59-.52 0-1.04.2-1.43.59L10.3 9.45l-7.72 7.72c-.78.78-.78 2.05 0 2.83L4 21.41c.39.39.9.59 1.41.59.51 0 1.02-.2 1.41-.59l7.78-7.78 2.81-2.81c.8-.78.8-2.07 0-2.86zM5.41 20L4 18.59l7.72-7.72 1.47 1.35L5.41 20z\"/>\n",
              "  </svg>\n",
              "      </button>\n",
              "      \n",
              "  <style>\n",
              "    .colab-df-container {\n",
              "      display:flex;\n",
              "      flex-wrap:wrap;\n",
              "      gap: 12px;\n",
              "    }\n",
              "\n",
              "    .colab-df-convert {\n",
              "      background-color: #E8F0FE;\n",
              "      border: none;\n",
              "      border-radius: 50%;\n",
              "      cursor: pointer;\n",
              "      display: none;\n",
              "      fill: #1967D2;\n",
              "      height: 32px;\n",
              "      padding: 0 0 0 0;\n",
              "      width: 32px;\n",
              "    }\n",
              "\n",
              "    .colab-df-convert:hover {\n",
              "      background-color: #E2EBFA;\n",
              "      box-shadow: 0px 1px 2px rgba(60, 64, 67, 0.3), 0px 1px 3px 1px rgba(60, 64, 67, 0.15);\n",
              "      fill: #174EA6;\n",
              "    }\n",
              "\n",
              "    [theme=dark] .colab-df-convert {\n",
              "      background-color: #3B4455;\n",
              "      fill: #D2E3FC;\n",
              "    }\n",
              "\n",
              "    [theme=dark] .colab-df-convert:hover {\n",
              "      background-color: #434B5C;\n",
              "      box-shadow: 0px 1px 3px 1px rgba(0, 0, 0, 0.15);\n",
              "      filter: drop-shadow(0px 1px 2px rgba(0, 0, 0, 0.3));\n",
              "      fill: #FFFFFF;\n",
              "    }\n",
              "  </style>\n",
              "\n",
              "      <script>\n",
              "        const buttonEl =\n",
              "          document.querySelector('#df-61dc25e7-557f-47e1-8dd9-1f5c284583c3 button.colab-df-convert');\n",
              "        buttonEl.style.display =\n",
              "          google.colab.kernel.accessAllowed ? 'block' : 'none';\n",
              "\n",
              "        async function convertToInteractive(key) {\n",
              "          const element = document.querySelector('#df-61dc25e7-557f-47e1-8dd9-1f5c284583c3');\n",
              "          const dataTable =\n",
              "            await google.colab.kernel.invokeFunction('convertToInteractive',\n",
              "                                                     [key], {});\n",
              "          if (!dataTable) return;\n",
              "\n",
              "          const docLinkHtml = 'Like what you see? Visit the ' +\n",
              "            '<a target=\"_blank\" href=https://colab.research.google.com/notebooks/data_table.ipynb>data table notebook</a>'\n",
              "            + ' to learn more about interactive tables.';\n",
              "          element.innerHTML = '';\n",
              "          dataTable['output_type'] = 'display_data';\n",
              "          await google.colab.output.renderOutput(dataTable, element);\n",
              "          const docLink = document.createElement('div');\n",
              "          docLink.innerHTML = docLinkHtml;\n",
              "          element.appendChild(docLink);\n",
              "        }\n",
              "      </script>\n",
              "    </div>\n",
              "  </div>\n",
              "  "
            ],
            "text/plain": [
              "        peptide         HLA  immunogenicity  test  respond potential\n",
              "0    ASTNRQSGRK  HLA-A*1101        0.076100    33        0  Negative\n",
              "1    PIPSSWAFAK  HLA-A*1101        0.076080    33        0  Negative\n",
              "2     HISCLTFGR  HLA-A*1101        0.076066    33        0  Negative\n",
              "3     SCIQSQLRK  HLA-A*1101        0.075916    33        0  Negative\n",
              "4    SLNFLGGAPK  HLA-A*1101        0.075677    33        0  Negative\n",
              "..          ...         ...             ...   ...      ...       ...\n",
              "146   AVYGNIKHK  HLA-A*1101        0.974766     1        1  Positive\n",
              "147   LLWAARPRL  HLA-A*0201        0.974707     0        0  Positive\n",
              "148   GAAFSGVSW  HLA-B*5801        0.974698     0        0  Positive\n",
              "149   SVAGRVDGL  HLA-A*0205        0.974642     5        5  Positive\n",
              "150   GILGFVFTL  HLA-B*3501        0.974621     9        9  Positive\n",
              "\n",
              "[151 rows x 6 columns]"
            ]
          },
          "execution_count": 168,
          "metadata": {},
          "output_type": "execute_result"
        }
      ],
      "source": [
        "ori_train1"
      ]
    },
    {
      "cell_type": "code",
      "execution_count": null,
      "metadata": {
        "id": "i9dwmN19bRE9"
      },
      "outputs": [],
      "source": [
        "ori_train1.loc[ori_train1[\"potential\"] != \"Negative\", \"potential\"] = 'Positive'"
      ]
    },
    {
      "cell_type": "code",
      "execution_count": null,
      "metadata": {
        "id": "eyDGkA-kbfQc"
      },
      "outputs": [],
      "source": [
        "ori_train1['potential'] = ori_train1['potential'].astype('category')\n",
        "ori_train1['potential'] = pd.factorize(ori_train1['potential'])[0]"
      ]
    },
    {
      "cell_type": "code",
      "execution_count": null,
      "metadata": {
        "colab": {
          "base_uri": "https://localhost:8080/"
        },
        "id": "sQ65kP5qbxfD",
        "outputId": "fd0b228e-8082-4ff3-abd1-ac8f1164d4cf"
      },
      "outputs": [
        {
          "data": {
            "text/plain": [
              "0      0\n",
              "1      0\n",
              "2      0\n",
              "3      0\n",
              "4      0\n",
              "      ..\n",
              "146    1\n",
              "147    1\n",
              "148    1\n",
              "149    1\n",
              "150    1\n",
              "Name: potential, Length: 151, dtype: int64"
            ]
          },
          "execution_count": 171,
          "metadata": {},
          "output_type": "execute_result"
        }
      ],
      "source": [
        "ori_train1['potential']"
      ]
    },
    {
      "cell_type": "code",
      "execution_count": null,
      "metadata": {
        "id": "utxrRlTGbj6U"
      },
      "outputs": [],
      "source": [
        "graph_labels1 = ori_train1['potential']"
      ]
    },
    {
      "cell_type": "code",
      "execution_count": null,
      "metadata": {
        "colab": {
          "base_uri": "https://localhost:8080/",
          "height": 423
        },
        "id": "TCvMaAbcZe9g",
        "outputId": "5a3ea440-964c-4558-c655-6f47f6bf48ce"
      },
      "outputs": [
        {
          "data": {
            "text/html": [
              "\n",
              "  <div id=\"df-450ebe74-b921-4b34-8885-f1d29d03bcea\">\n",
              "    <div class=\"colab-df-container\">\n",
              "      <div>\n",
              "<style scoped>\n",
              "    .dataframe tbody tr th:only-of-type {\n",
              "        vertical-align: middle;\n",
              "    }\n",
              "\n",
              "    .dataframe tbody tr th {\n",
              "        vertical-align: top;\n",
              "    }\n",
              "\n",
              "    .dataframe thead th {\n",
              "        text-align: right;\n",
              "    }\n",
              "</style>\n",
              "<table border=\"1\" class=\"dataframe\">\n",
              "  <thead>\n",
              "    <tr style=\"text-align: right;\">\n",
              "      <th></th>\n",
              "      <th>0</th>\n",
              "    </tr>\n",
              "  </thead>\n",
              "  <tbody>\n",
              "    <tr>\n",
              "      <th>0.076100</th>\n",
              "      <td>1</td>\n",
              "    </tr>\n",
              "    <tr>\n",
              "      <th>0.976569</th>\n",
              "      <td>1</td>\n",
              "    </tr>\n",
              "    <tr>\n",
              "      <th>0.976488</th>\n",
              "      <td>1</td>\n",
              "    </tr>\n",
              "    <tr>\n",
              "      <th>0.976456</th>\n",
              "      <td>1</td>\n",
              "    </tr>\n",
              "    <tr>\n",
              "      <th>0.976428</th>\n",
              "      <td>1</td>\n",
              "    </tr>\n",
              "    <tr>\n",
              "      <th>...</th>\n",
              "      <td>...</td>\n",
              "    </tr>\n",
              "    <tr>\n",
              "      <th>0.981228</th>\n",
              "      <td>1</td>\n",
              "    </tr>\n",
              "    <tr>\n",
              "      <th>0.980895</th>\n",
              "      <td>1</td>\n",
              "    </tr>\n",
              "    <tr>\n",
              "      <th>0.979910</th>\n",
              "      <td>1</td>\n",
              "    </tr>\n",
              "    <tr>\n",
              "      <th>0.979685</th>\n",
              "      <td>1</td>\n",
              "    </tr>\n",
              "    <tr>\n",
              "      <th>0.974621</th>\n",
              "      <td>1</td>\n",
              "    </tr>\n",
              "  </tbody>\n",
              "</table>\n",
              "<p>151 rows × 1 columns</p>\n",
              "</div>\n",
              "      <button class=\"colab-df-convert\" onclick=\"convertToInteractive('df-450ebe74-b921-4b34-8885-f1d29d03bcea')\"\n",
              "              title=\"Convert this dataframe to an interactive table.\"\n",
              "              style=\"display:none;\">\n",
              "        \n",
              "  <svg xmlns=\"http://www.w3.org/2000/svg\" height=\"24px\"viewBox=\"0 0 24 24\"\n",
              "       width=\"24px\">\n",
              "    <path d=\"M0 0h24v24H0V0z\" fill=\"none\"/>\n",
              "    <path d=\"M18.56 5.44l.94 2.06.94-2.06 2.06-.94-2.06-.94-.94-2.06-.94 2.06-2.06.94zm-11 1L8.5 8.5l.94-2.06 2.06-.94-2.06-.94L8.5 2.5l-.94 2.06-2.06.94zm10 10l.94 2.06.94-2.06 2.06-.94-2.06-.94-.94-2.06-.94 2.06-2.06.94z\"/><path d=\"M17.41 7.96l-1.37-1.37c-.4-.4-.92-.59-1.43-.59-.52 0-1.04.2-1.43.59L10.3 9.45l-7.72 7.72c-.78.78-.78 2.05 0 2.83L4 21.41c.39.39.9.59 1.41.59.51 0 1.02-.2 1.41-.59l7.78-7.78 2.81-2.81c.8-.78.8-2.07 0-2.86zM5.41 20L4 18.59l7.72-7.72 1.47 1.35L5.41 20z\"/>\n",
              "  </svg>\n",
              "      </button>\n",
              "      \n",
              "  <style>\n",
              "    .colab-df-container {\n",
              "      display:flex;\n",
              "      flex-wrap:wrap;\n",
              "      gap: 12px;\n",
              "    }\n",
              "\n",
              "    .colab-df-convert {\n",
              "      background-color: #E8F0FE;\n",
              "      border: none;\n",
              "      border-radius: 50%;\n",
              "      cursor: pointer;\n",
              "      display: none;\n",
              "      fill: #1967D2;\n",
              "      height: 32px;\n",
              "      padding: 0 0 0 0;\n",
              "      width: 32px;\n",
              "    }\n",
              "\n",
              "    .colab-df-convert:hover {\n",
              "      background-color: #E2EBFA;\n",
              "      box-shadow: 0px 1px 2px rgba(60, 64, 67, 0.3), 0px 1px 3px 1px rgba(60, 64, 67, 0.15);\n",
              "      fill: #174EA6;\n",
              "    }\n",
              "\n",
              "    [theme=dark] .colab-df-convert {\n",
              "      background-color: #3B4455;\n",
              "      fill: #D2E3FC;\n",
              "    }\n",
              "\n",
              "    [theme=dark] .colab-df-convert:hover {\n",
              "      background-color: #434B5C;\n",
              "      box-shadow: 0px 1px 3px 1px rgba(0, 0, 0, 0.15);\n",
              "      filter: drop-shadow(0px 1px 2px rgba(0, 0, 0, 0.3));\n",
              "      fill: #FFFFFF;\n",
              "    }\n",
              "  </style>\n",
              "\n",
              "      <script>\n",
              "        const buttonEl =\n",
              "          document.querySelector('#df-450ebe74-b921-4b34-8885-f1d29d03bcea button.colab-df-convert');\n",
              "        buttonEl.style.display =\n",
              "          google.colab.kernel.accessAllowed ? 'block' : 'none';\n",
              "\n",
              "        async function convertToInteractive(key) {\n",
              "          const element = document.querySelector('#df-450ebe74-b921-4b34-8885-f1d29d03bcea');\n",
              "          const dataTable =\n",
              "            await google.colab.kernel.invokeFunction('convertToInteractive',\n",
              "                                                     [key], {});\n",
              "          if (!dataTable) return;\n",
              "\n",
              "          const docLinkHtml = 'Like what you see? Visit the ' +\n",
              "            '<a target=\"_blank\" href=https://colab.research.google.com/notebooks/data_table.ipynb>data table notebook</a>'\n",
              "            + ' to learn more about interactive tables.';\n",
              "          element.innerHTML = '';\n",
              "          dataTable['output_type'] = 'display_data';\n",
              "          await google.colab.output.renderOutput(dataTable, element);\n",
              "          const docLink = document.createElement('div');\n",
              "          docLink.innerHTML = docLinkHtml;\n",
              "          element.appendChild(docLink);\n",
              "        }\n",
              "      </script>\n",
              "    </div>\n",
              "  </div>\n",
              "  "
            ],
            "text/plain": [
              "          0\n",
              "0.076100  1\n",
              "0.976569  1\n",
              "0.976488  1\n",
              "0.976456  1\n",
              "0.976428  1\n",
              "...      ..\n",
              "0.981228  1\n",
              "0.980895  1\n",
              "0.979910  1\n",
              "0.979685  1\n",
              "0.974621  1\n",
              "\n",
              "[151 rows x 1 columns]"
            ]
          },
          "execution_count": 173,
          "metadata": {},
          "output_type": "execute_result"
        }
      ],
      "source": [
        "graph_labels.value_counts().to_frame()"
      ]
    },
    {
      "cell_type": "code",
      "execution_count": null,
      "metadata": {
        "colab": {
          "base_uri": "https://localhost:8080/",
          "height": 112
        },
        "id": "CB0-IXAbb7rq",
        "outputId": "8a16d7a9-170f-4691-9543-49bdd028bd7c"
      },
      "outputs": [
        {
          "data": {
            "text/html": [
              "\n",
              "  <div id=\"df-d1bb1165-4f0f-428a-a445-5d4dafb5a391\">\n",
              "    <div class=\"colab-df-container\">\n",
              "      <div>\n",
              "<style scoped>\n",
              "    .dataframe tbody tr th:only-of-type {\n",
              "        vertical-align: middle;\n",
              "    }\n",
              "\n",
              "    .dataframe tbody tr th {\n",
              "        vertical-align: top;\n",
              "    }\n",
              "\n",
              "    .dataframe thead th {\n",
              "        text-align: right;\n",
              "    }\n",
              "</style>\n",
              "<table border=\"1\" class=\"dataframe\">\n",
              "  <thead>\n",
              "    <tr style=\"text-align: right;\">\n",
              "      <th></th>\n",
              "      <th>potential</th>\n",
              "    </tr>\n",
              "  </thead>\n",
              "  <tbody>\n",
              "    <tr>\n",
              "      <th>1</th>\n",
              "      <td>106</td>\n",
              "    </tr>\n",
              "    <tr>\n",
              "      <th>0</th>\n",
              "      <td>45</td>\n",
              "    </tr>\n",
              "  </tbody>\n",
              "</table>\n",
              "</div>\n",
              "      <button class=\"colab-df-convert\" onclick=\"convertToInteractive('df-d1bb1165-4f0f-428a-a445-5d4dafb5a391')\"\n",
              "              title=\"Convert this dataframe to an interactive table.\"\n",
              "              style=\"display:none;\">\n",
              "        \n",
              "  <svg xmlns=\"http://www.w3.org/2000/svg\" height=\"24px\"viewBox=\"0 0 24 24\"\n",
              "       width=\"24px\">\n",
              "    <path d=\"M0 0h24v24H0V0z\" fill=\"none\"/>\n",
              "    <path d=\"M18.56 5.44l.94 2.06.94-2.06 2.06-.94-2.06-.94-.94-2.06-.94 2.06-2.06.94zm-11 1L8.5 8.5l.94-2.06 2.06-.94-2.06-.94L8.5 2.5l-.94 2.06-2.06.94zm10 10l.94 2.06.94-2.06 2.06-.94-2.06-.94-.94-2.06-.94 2.06-2.06.94z\"/><path d=\"M17.41 7.96l-1.37-1.37c-.4-.4-.92-.59-1.43-.59-.52 0-1.04.2-1.43.59L10.3 9.45l-7.72 7.72c-.78.78-.78 2.05 0 2.83L4 21.41c.39.39.9.59 1.41.59.51 0 1.02-.2 1.41-.59l7.78-7.78 2.81-2.81c.8-.78.8-2.07 0-2.86zM5.41 20L4 18.59l7.72-7.72 1.47 1.35L5.41 20z\"/>\n",
              "  </svg>\n",
              "      </button>\n",
              "      \n",
              "  <style>\n",
              "    .colab-df-container {\n",
              "      display:flex;\n",
              "      flex-wrap:wrap;\n",
              "      gap: 12px;\n",
              "    }\n",
              "\n",
              "    .colab-df-convert {\n",
              "      background-color: #E8F0FE;\n",
              "      border: none;\n",
              "      border-radius: 50%;\n",
              "      cursor: pointer;\n",
              "      display: none;\n",
              "      fill: #1967D2;\n",
              "      height: 32px;\n",
              "      padding: 0 0 0 0;\n",
              "      width: 32px;\n",
              "    }\n",
              "\n",
              "    .colab-df-convert:hover {\n",
              "      background-color: #E2EBFA;\n",
              "      box-shadow: 0px 1px 2px rgba(60, 64, 67, 0.3), 0px 1px 3px 1px rgba(60, 64, 67, 0.15);\n",
              "      fill: #174EA6;\n",
              "    }\n",
              "\n",
              "    [theme=dark] .colab-df-convert {\n",
              "      background-color: #3B4455;\n",
              "      fill: #D2E3FC;\n",
              "    }\n",
              "\n",
              "    [theme=dark] .colab-df-convert:hover {\n",
              "      background-color: #434B5C;\n",
              "      box-shadow: 0px 1px 3px 1px rgba(0, 0, 0, 0.15);\n",
              "      filter: drop-shadow(0px 1px 2px rgba(0, 0, 0, 0.3));\n",
              "      fill: #FFFFFF;\n",
              "    }\n",
              "  </style>\n",
              "\n",
              "      <script>\n",
              "        const buttonEl =\n",
              "          document.querySelector('#df-d1bb1165-4f0f-428a-a445-5d4dafb5a391 button.colab-df-convert');\n",
              "        buttonEl.style.display =\n",
              "          google.colab.kernel.accessAllowed ? 'block' : 'none';\n",
              "\n",
              "        async function convertToInteractive(key) {\n",
              "          const element = document.querySelector('#df-d1bb1165-4f0f-428a-a445-5d4dafb5a391');\n",
              "          const dataTable =\n",
              "            await google.colab.kernel.invokeFunction('convertToInteractive',\n",
              "                                                     [key], {});\n",
              "          if (!dataTable) return;\n",
              "\n",
              "          const docLinkHtml = 'Like what you see? Visit the ' +\n",
              "            '<a target=\"_blank\" href=https://colab.research.google.com/notebooks/data_table.ipynb>data table notebook</a>'\n",
              "            + ' to learn more about interactive tables.';\n",
              "          element.innerHTML = '';\n",
              "          dataTable['output_type'] = 'display_data';\n",
              "          await google.colab.output.renderOutput(dataTable, element);\n",
              "          const docLink = document.createElement('div');\n",
              "          docLink.innerHTML = docLinkHtml;\n",
              "          element.appendChild(docLink);\n",
              "        }\n",
              "      </script>\n",
              "    </div>\n",
              "  </div>\n",
              "  "
            ],
            "text/plain": [
              "   potential\n",
              "1        106\n",
              "0         45"
            ]
          },
          "execution_count": 174,
          "metadata": {},
          "output_type": "execute_result"
        }
      ],
      "source": [
        "graph_labels1.value_counts().to_frame()"
      ]
    },
    {
      "cell_type": "code",
      "execution_count": null,
      "metadata": {
        "id": "NHGvOY5PaJPU"
      },
      "outputs": [],
      "source": [
        "graph_labels1 = pd.get_dummies(graph_labels1, drop_first=True)"
      ]
    },
    {
      "cell_type": "code",
      "execution_count": null,
      "metadata": {
        "id": "t4CXTAzqaL6c"
      },
      "outputs": [],
      "source": [
        "generator = PaddedGraphGenerator(graphs=graphs)"
      ]
    },
    {
      "cell_type": "code",
      "execution_count": null,
      "metadata": {
        "id": "wmks7kR_aOjq"
      },
      "outputs": [],
      "source": [
        "def create_graph_classification_model(generator):\n",
        "    gc_model = GCNSupervisedGraphClassification(\n",
        "        layer_sizes=[64, 64],\n",
        "        activations=[\"relu\", \"relu\"],\n",
        "        generator=generator,\n",
        "        dropout=0.5,\n",
        "    )\n",
        "    x_inp, x_out = gc_model.in_out_tensors()\n",
        "    predictions = Dense(units=32, activation=\"relu\")(x_out)\n",
        "    predictions = Dense(units=16, activation=\"relu\")(predictions)\n",
        "    predictions = Dense(units=1, activation=\"sigmoid\")(predictions)\n",
        "\n",
        "    # Let's create the Keras model and prepare it for training\n",
        "    model = Model(inputs=x_inp, outputs=predictions)\n",
        "    model.compile(optimizer=Adam(0.005), loss=binary_crossentropy, metrics=[\"acc\"])\n",
        "    \n",
        "    return model"
      ]
    },
    {
      "cell_type": "code",
      "execution_count": null,
      "metadata": {
        "id": "V1sJCZV2aQCT"
      },
      "outputs": [],
      "source": [
        "epochs = 200  # maximum number of training epochs\n",
        "folds = 5  # the number of folds for k-fold cross validation\n",
        "n_repeats = 1  # the number of repeats for repeated k-fold cross validation"
      ]
    },
    {
      "cell_type": "code",
      "execution_count": null,
      "metadata": {
        "id": "urOco76faTU9"
      },
      "outputs": [],
      "source": [
        "es = EarlyStopping(\n",
        "    monitor=\"val_loss\", min_delta=0, patience=25, restore_best_weights=True\n",
        ")"
      ]
    },
    {
      "cell_type": "code",
      "execution_count": null,
      "metadata": {
        "id": "2jxrwY0JaU3K"
      },
      "outputs": [],
      "source": [
        "def train_fold(model, train_gen, test_gen, es, epochs):\n",
        "    history = model.fit(\n",
        "        train_gen, epochs=epochs, validation_data=test_gen, verbose=0, callbacks=[es],\n",
        "    )\n",
        "    # calculate performance on the test data and return along with history\n",
        "    test_metrics = model.evaluate(test_gen, verbose=0)\n",
        "    test_acc = test_metrics[model.metrics_names.index(\"acc\")]\n",
        "\n",
        "    return history, test_acc"
      ]
    },
    {
      "cell_type": "code",
      "execution_count": null,
      "metadata": {
        "id": "7g-7t5DBaZJj"
      },
      "outputs": [],
      "source": [
        "def get_generators(train_index, test_index, graph_labels, batch_size):\n",
        "    train_gen = generator.flow(\n",
        "        train_index, targets=graph_labels.iloc[train_index].values, batch_size=batch_size\n",
        "    )\n",
        "    test_gen = generator.flow(\n",
        "        test_index, targets=graph_labels.iloc[test_index].values, batch_size=batch_size\n",
        "    )\n",
        "\n",
        "    return train_gen, test_gen"
      ]
    },
    {
      "cell_type": "code",
      "execution_count": null,
      "metadata": {
        "id": "5Xq94vHLGEKa"
      },
      "outputs": [],
      "source": [
        "test_accs = []\n",
        "\n",
        "stratified_folds = model_selection.RepeatedStratifiedKFold(\n",
        "    n_splits=folds, n_repeats=n_repeats\n",
        ").split(graph_labels1, graph_labels1)"
      ]
    },
    {
      "cell_type": "code",
      "execution_count": null,
      "metadata": {
        "colab": {
          "base_uri": "https://localhost:8080/",
          "height": 423
        },
        "id": "YoCmn12ZXJYX",
        "outputId": "2154f9a9-73c7-4ae8-83dd-bb26d3bb6675"
      },
      "outputs": [
        {
          "data": {
            "text/html": [
              "\n",
              "  <div id=\"df-a799dbcd-6d56-4505-84fe-7442e8ac81d1\">\n",
              "    <div class=\"colab-df-container\">\n",
              "      <div>\n",
              "<style scoped>\n",
              "    .dataframe tbody tr th:only-of-type {\n",
              "        vertical-align: middle;\n",
              "    }\n",
              "\n",
              "    .dataframe tbody tr th {\n",
              "        vertical-align: top;\n",
              "    }\n",
              "\n",
              "    .dataframe thead th {\n",
              "        text-align: right;\n",
              "    }\n",
              "</style>\n",
              "<table border=\"1\" class=\"dataframe\">\n",
              "  <thead>\n",
              "    <tr style=\"text-align: right;\">\n",
              "      <th></th>\n",
              "      <th>1</th>\n",
              "    </tr>\n",
              "  </thead>\n",
              "  <tbody>\n",
              "    <tr>\n",
              "      <th>0</th>\n",
              "      <td>0</td>\n",
              "    </tr>\n",
              "    <tr>\n",
              "      <th>1</th>\n",
              "      <td>0</td>\n",
              "    </tr>\n",
              "    <tr>\n",
              "      <th>2</th>\n",
              "      <td>0</td>\n",
              "    </tr>\n",
              "    <tr>\n",
              "      <th>3</th>\n",
              "      <td>0</td>\n",
              "    </tr>\n",
              "    <tr>\n",
              "      <th>4</th>\n",
              "      <td>0</td>\n",
              "    </tr>\n",
              "    <tr>\n",
              "      <th>...</th>\n",
              "      <td>...</td>\n",
              "    </tr>\n",
              "    <tr>\n",
              "      <th>146</th>\n",
              "      <td>1</td>\n",
              "    </tr>\n",
              "    <tr>\n",
              "      <th>147</th>\n",
              "      <td>1</td>\n",
              "    </tr>\n",
              "    <tr>\n",
              "      <th>148</th>\n",
              "      <td>1</td>\n",
              "    </tr>\n",
              "    <tr>\n",
              "      <th>149</th>\n",
              "      <td>1</td>\n",
              "    </tr>\n",
              "    <tr>\n",
              "      <th>150</th>\n",
              "      <td>1</td>\n",
              "    </tr>\n",
              "  </tbody>\n",
              "</table>\n",
              "<p>151 rows × 1 columns</p>\n",
              "</div>\n",
              "      <button class=\"colab-df-convert\" onclick=\"convertToInteractive('df-a799dbcd-6d56-4505-84fe-7442e8ac81d1')\"\n",
              "              title=\"Convert this dataframe to an interactive table.\"\n",
              "              style=\"display:none;\">\n",
              "        \n",
              "  <svg xmlns=\"http://www.w3.org/2000/svg\" height=\"24px\"viewBox=\"0 0 24 24\"\n",
              "       width=\"24px\">\n",
              "    <path d=\"M0 0h24v24H0V0z\" fill=\"none\"/>\n",
              "    <path d=\"M18.56 5.44l.94 2.06.94-2.06 2.06-.94-2.06-.94-.94-2.06-.94 2.06-2.06.94zm-11 1L8.5 8.5l.94-2.06 2.06-.94-2.06-.94L8.5 2.5l-.94 2.06-2.06.94zm10 10l.94 2.06.94-2.06 2.06-.94-2.06-.94-.94-2.06-.94 2.06-2.06.94z\"/><path d=\"M17.41 7.96l-1.37-1.37c-.4-.4-.92-.59-1.43-.59-.52 0-1.04.2-1.43.59L10.3 9.45l-7.72 7.72c-.78.78-.78 2.05 0 2.83L4 21.41c.39.39.9.59 1.41.59.51 0 1.02-.2 1.41-.59l7.78-7.78 2.81-2.81c.8-.78.8-2.07 0-2.86zM5.41 20L4 18.59l7.72-7.72 1.47 1.35L5.41 20z\"/>\n",
              "  </svg>\n",
              "      </button>\n",
              "      \n",
              "  <style>\n",
              "    .colab-df-container {\n",
              "      display:flex;\n",
              "      flex-wrap:wrap;\n",
              "      gap: 12px;\n",
              "    }\n",
              "\n",
              "    .colab-df-convert {\n",
              "      background-color: #E8F0FE;\n",
              "      border: none;\n",
              "      border-radius: 50%;\n",
              "      cursor: pointer;\n",
              "      display: none;\n",
              "      fill: #1967D2;\n",
              "      height: 32px;\n",
              "      padding: 0 0 0 0;\n",
              "      width: 32px;\n",
              "    }\n",
              "\n",
              "    .colab-df-convert:hover {\n",
              "      background-color: #E2EBFA;\n",
              "      box-shadow: 0px 1px 2px rgba(60, 64, 67, 0.3), 0px 1px 3px 1px rgba(60, 64, 67, 0.15);\n",
              "      fill: #174EA6;\n",
              "    }\n",
              "\n",
              "    [theme=dark] .colab-df-convert {\n",
              "      background-color: #3B4455;\n",
              "      fill: #D2E3FC;\n",
              "    }\n",
              "\n",
              "    [theme=dark] .colab-df-convert:hover {\n",
              "      background-color: #434B5C;\n",
              "      box-shadow: 0px 1px 3px 1px rgba(0, 0, 0, 0.15);\n",
              "      filter: drop-shadow(0px 1px 2px rgba(0, 0, 0, 0.3));\n",
              "      fill: #FFFFFF;\n",
              "    }\n",
              "  </style>\n",
              "\n",
              "      <script>\n",
              "        const buttonEl =\n",
              "          document.querySelector('#df-a799dbcd-6d56-4505-84fe-7442e8ac81d1 button.colab-df-convert');\n",
              "        buttonEl.style.display =\n",
              "          google.colab.kernel.accessAllowed ? 'block' : 'none';\n",
              "\n",
              "        async function convertToInteractive(key) {\n",
              "          const element = document.querySelector('#df-a799dbcd-6d56-4505-84fe-7442e8ac81d1');\n",
              "          const dataTable =\n",
              "            await google.colab.kernel.invokeFunction('convertToInteractive',\n",
              "                                                     [key], {});\n",
              "          if (!dataTable) return;\n",
              "\n",
              "          const docLinkHtml = 'Like what you see? Visit the ' +\n",
              "            '<a target=\"_blank\" href=https://colab.research.google.com/notebooks/data_table.ipynb>data table notebook</a>'\n",
              "            + ' to learn more about interactive tables.';\n",
              "          element.innerHTML = '';\n",
              "          dataTable['output_type'] = 'display_data';\n",
              "          await google.colab.output.renderOutput(dataTable, element);\n",
              "          const docLink = document.createElement('div');\n",
              "          docLink.innerHTML = docLinkHtml;\n",
              "          element.appendChild(docLink);\n",
              "        }\n",
              "      </script>\n",
              "    </div>\n",
              "  </div>\n",
              "  "
            ],
            "text/plain": [
              "     1\n",
              "0    0\n",
              "1    0\n",
              "2    0\n",
              "3    0\n",
              "4    0\n",
              "..  ..\n",
              "146  1\n",
              "147  1\n",
              "148  1\n",
              "149  1\n",
              "150  1\n",
              "\n",
              "[151 rows x 1 columns]"
            ]
          },
          "execution_count": 183,
          "metadata": {},
          "output_type": "execute_result"
        }
      ],
      "source": [
        "graph_labels1"
      ]
    },
    {
      "cell_type": "code",
      "execution_count": null,
      "metadata": {
        "colab": {
          "base_uri": "https://localhost:8080/"
        },
        "id": "aQQDP65iGNPI",
        "outputId": "49dd9133-e3e2-4435-d000-5758e3b8abfd"
      },
      "outputs": [
        {
          "data": {
            "text/plain": [
              "<generator object _RepeatedSplits.split at 0x7f68d130a820>"
            ]
          },
          "execution_count": 184,
          "metadata": {},
          "output_type": "execute_result"
        }
      ],
      "source": [
        "stratified_folds"
      ]
    },
    {
      "cell_type": "code",
      "execution_count": null,
      "metadata": {
        "colab": {
          "base_uri": "https://localhost:8080/"
        },
        "id": "Gw1A5gm1TRuq",
        "outputId": "1a973ef6-0fa6-4155-b3b2-4ffacf703d80"
      },
      "outputs": [
        {
          "name": "stdout",
          "output_type": "stream",
          "text": [
            "(0, (array([  0,   1,   2,   3,   4,   5,   6,   8,   9,  10,  11,  13,  14,\n",
            "        15,  17,  18,  19,  20,  21,  22,  23,  24,  25,  27,  28,  29,\n",
            "        30,  31,  32,  34,  35,  36,  37,  40,  42,  44,  45,  46,  47,\n",
            "        49,  50,  51,  52,  54,  55,  56,  59,  60,  62,  63,  64,  65,\n",
            "        66,  68,  69,  71,  72,  73,  74,  76,  77,  78,  79,  80,  82,\n",
            "        83,  84,  85,  86,  87,  89,  91,  92,  93,  95,  96,  97,  98,\n",
            "        99, 100, 101, 103, 104, 105, 106, 107, 108, 109, 110, 111, 112,\n",
            "       113, 114, 115, 116, 117, 118, 119, 120, 122, 123, 124, 125, 126,\n",
            "       127, 128, 130, 133, 135, 136, 137, 138, 139, 141, 143, 144, 145,\n",
            "       148, 149, 150]), array([  7,  12,  16,  26,  33,  38,  39,  41,  43,  48,  53,  57,  58,\n",
            "        61,  67,  70,  75,  81,  88,  90,  94, 102, 121, 129, 131, 132,\n",
            "       134, 140, 142, 146, 147])))\n",
            "(1, (array([  0,   1,   2,   3,   5,   7,   8,   9,  10,  11,  12,  13,  16,\n",
            "        17,  19,  20,  21,  23,  24,  26,  27,  28,  29,  30,  31,  32,\n",
            "        33,  34,  35,  36,  38,  39,  40,  41,  43,  44,  45,  46,  48,\n",
            "        50,  51,  53,  57,  58,  59,  60,  61,  62,  63,  64,  65,  67,\n",
            "        68,  69,  70,  71,  73,  74,  75,  76,  77,  78,  80,  81,  82,\n",
            "        83,  84,  85,  87,  88,  89,  90,  91,  92,  93,  94,  95,  97,\n",
            "        98,  99, 100, 101, 102, 103, 104, 105, 106, 107, 108, 110, 111,\n",
            "       112, 113, 114, 115, 116, 117, 118, 119, 120, 121, 122, 124, 126,\n",
            "       127, 128, 129, 131, 132, 134, 135, 138, 139, 140, 142, 144, 146,\n",
            "       147, 148, 149, 150]), array([  4,   6,  14,  15,  18,  22,  25,  37,  42,  47,  49,  52,  54,\n",
            "        55,  56,  66,  72,  79,  86,  96, 109, 123, 125, 130, 133, 136,\n",
            "       137, 141, 143, 145])))\n",
            "(2, (array([  0,   1,   3,   4,   5,   6,   7,   8,  10,  12,  13,  14,  15,\n",
            "        16,  17,  18,  20,  21,  22,  24,  25,  26,  27,  28,  29,  30,\n",
            "        31,  32,  33,  34,  37,  38,  39,  41,  42,  43,  45,  46,  47,\n",
            "        48,  49,  51,  52,  53,  54,  55,  56,  57,  58,  59,  60,  61,\n",
            "        62,  63,  65,  66,  67,  68,  69,  70,  72,  73,  74,  75,  76,\n",
            "        78,  79,  81,  82,  83,  84,  85,  86,  87,  88,  90,  91,  92,\n",
            "        94,  95,  96,  97,  98,  99, 100, 101, 102, 104, 106, 109, 110,\n",
            "       114, 116, 118, 120, 121, 122, 123, 124, 125, 127, 129, 130, 131,\n",
            "       132, 133, 134, 136, 137, 138, 139, 140, 141, 142, 143, 144, 145,\n",
            "       146, 147, 149, 150]), array([  2,   9,  11,  19,  23,  35,  36,  40,  44,  50,  64,  71,  77,\n",
            "        80,  89,  93, 103, 105, 107, 108, 111, 112, 113, 115, 117, 119,\n",
            "       126, 128, 135, 148])))\n",
            "(3, (array([  1,   2,   4,   6,   7,   9,  10,  11,  12,  14,  15,  16,  17,\n",
            "        18,  19,  20,  21,  22,  23,  24,  25,  26,  27,  31,  32,  33,\n",
            "        35,  36,  37,  38,  39,  40,  41,  42,  43,  44,  47,  48,  49,\n",
            "        50,  52,  53,  54,  55,  56,  57,  58,  59,  61,  62,  64,  65,\n",
            "        66,  67,  70,  71,  72,  75,  77,  79,  80,  81,  82,  84,  85,\n",
            "        86,  87,  88,  89,  90,  93,  94,  95,  96,  97,  98,  99, 101,\n",
            "       102, 103, 104, 105, 106, 107, 108, 109, 111, 112, 113, 114, 115,\n",
            "       116, 117, 119, 120, 121, 123, 124, 125, 126, 127, 128, 129, 130,\n",
            "       131, 132, 133, 134, 135, 136, 137, 139, 140, 141, 142, 143, 145,\n",
            "       146, 147, 148, 150]), array([  0,   3,   5,   8,  13,  28,  29,  30,  34,  45,  46,  51,  60,\n",
            "        63,  68,  69,  73,  74,  76,  78,  83,  91,  92, 100, 110, 118,\n",
            "       122, 138, 144, 149])))\n",
            "(4, (array([  0,   2,   3,   4,   5,   6,   7,   8,   9,  11,  12,  13,  14,\n",
            "        15,  16,  18,  19,  22,  23,  25,  26,  28,  29,  30,  33,  34,\n",
            "        35,  36,  37,  38,  39,  40,  41,  42,  43,  44,  45,  46,  47,\n",
            "        48,  49,  50,  51,  52,  53,  54,  55,  56,  57,  58,  60,  61,\n",
            "        63,  64,  66,  67,  68,  69,  70,  71,  72,  73,  74,  75,  76,\n",
            "        77,  78,  79,  80,  81,  83,  86,  88,  89,  90,  91,  92,  93,\n",
            "        94,  96, 100, 102, 103, 105, 107, 108, 109, 110, 111, 112, 113,\n",
            "       115, 117, 118, 119, 121, 122, 123, 125, 126, 128, 129, 130, 131,\n",
            "       132, 133, 134, 135, 136, 137, 138, 140, 141, 142, 143, 144, 145,\n",
            "       146, 147, 148, 149]), array([  1,  10,  17,  20,  21,  24,  27,  31,  32,  59,  62,  65,  82,\n",
            "        84,  85,  87,  95,  97,  98,  99, 101, 104, 106, 114, 116, 120,\n",
            "       124, 127, 139, 150])))\n"
          ]
        }
      ],
      "source": [
        "for i in enumerate(stratified_folds):\n",
        "  print (i)"
      ]
    },
    {
      "cell_type": "code",
      "execution_count": null,
      "metadata": {
        "colab": {
          "base_uri": "https://localhost:8080/"
        },
        "id": "nSrvCvCgadah",
        "outputId": "46b2387c-a1a5-4bb8-fbcd-98c36961a5c3"
      },
      "outputs": [
        {
          "name": "stdout",
          "output_type": "stream",
          "text": [
            "Training and evaluating on fold 1 out of 5...\n",
            "Training and evaluating on fold 2 out of 5...\n",
            "Training and evaluating on fold 3 out of 5...\n",
            "Training and evaluating on fold 4 out of 5...\n",
            "Training and evaluating on fold 5 out of 5...\n"
          ]
        }
      ],
      "source": [
        "test_accs = []\n",
        "\n",
        "stratified_folds = model_selection.RepeatedStratifiedKFold(\n",
        "    n_splits=folds, n_repeats=n_repeats\n",
        ").split(graph_labels1, graph_labels1)\n",
        "\n",
        "for i, (train_index, test_index) in enumerate(stratified_folds):\n",
        "    print(f\"Training and evaluating on fold {i+1} out of {folds * n_repeats}...\")\n",
        "    train_gen, test_gen = get_generators(\n",
        "        train_index, test_index, graph_labels1, batch_size=30\n",
        "    )\n",
        "\n",
        "    model = create_graph_classification_model(generator)\n",
        "\n",
        "    history, acc = train_fold(model, train_gen, test_gen, es, epochs)\n",
        "\n",
        "    test_accs.append(acc)"
      ]
    },
    {
      "cell_type": "code",
      "execution_count": null,
      "metadata": {
        "colab": {
          "base_uri": "https://localhost:8080/"
        },
        "id": "6yId4dn2GI-O",
        "outputId": "0671c4e6-d046-4718-88d5-45f2fb59f0df"
      },
      "outputs": [
        {
          "data": {
            "text/plain": [
              "[0.8387096524238586,\n",
              " 0.8333333134651184,\n",
              " 0.7333333492279053,\n",
              " 0.8333333134651184,\n",
              " 0.8999999761581421]"
            ]
          },
          "execution_count": 197,
          "metadata": {},
          "output_type": "execute_result"
        }
      ],
      "source": [
        "test_accs"
      ]
    },
    {
      "cell_type": "code",
      "execution_count": null,
      "metadata": {
        "colab": {
          "base_uri": "https://localhost:8080/"
        },
        "id": "EOSAhBFJiJxt",
        "outputId": "4551ce9f-e798-4641-a660-4bcfdecc0e23"
      },
      "outputs": [
        {
          "name": "stdout",
          "output_type": "stream",
          "text": [
            "Accuracy over all folds mean: 82.8% and std: 5.4%\n"
          ]
        }
      ],
      "source": [
        "print(\n",
        "    f\"Accuracy over all folds mean: {np.mean(test_accs)*100:.3}% and std: {np.std(test_accs)*100:.2}%\"\n",
        ")"
      ]
    },
    {
      "cell_type": "code",
      "execution_count": null,
      "metadata": {
        "colab": {
          "base_uri": "https://localhost:8080/",
          "height": 405
        },
        "id": "kvHizXEIiNQ0",
        "outputId": "1e9e13ec-a154-470b-b034-35fd847cc68f"
      },
      "outputs": [
        {
          "data": {
            "text/plain": [
              "Text(0, 0.5, 'Count')"
            ]
          },
          "execution_count": 199,
          "metadata": {},
          "output_type": "execute_result"
        },
        {
          "data": {
            "image/png": "[encoded data removed]",
            "text/plain": [
              "<Figure size 576x432 with 1 Axes>"
            ]
          },
          "metadata": {},
          "output_type": "display_data"
        }
      ],
      "source": [
        "plt.figure(figsize=(8, 6))\n",
        "plt.hist(test_accs)\n",
        "plt.xlabel(\"Accuracy\")\n",
        "plt.ylabel(\"Count\")"
      ]
    },
    {
      "cell_type": "code",
      "execution_count": null,
      "metadata": {
        "id": "nnD5PiKkDRja"
      },
      "outputs": [],
      "source": [
        "def display_learning_curves(history):\n",
        "    fig, (ax1, ax2) = plt.subplots(1, 2, figsize=(15, 5))\n",
        "\n",
        "    ax1.plot(history.history[\"loss\"])\n",
        "    ax1.plot(history.history[\"val_loss\"])\n",
        "    ax1.legend([\"train\", \"test\"], loc=\"upper right\")\n",
        "    ax1.set_xlabel(\"Epochs\")\n",
        "    ax1.set_ylabel(\"Loss\")\n",
        "\n",
        "    ax2.plot(history.history[\"acc\"])\n",
        "    ax2.plot(history.history[\"val_acc\"])\n",
        "    ax2.legend([\"train\", \"test\"], loc=\"upper right\")\n",
        "    ax2.set_xlabel(\"Epochs\")\n",
        "    ax2.set_ylabel(\"Accuracy\")\n",
        "    plt.show()"
      ]
    },
    {
      "cell_type": "code",
      "execution_count": null,
      "metadata": {
        "colab": {
          "base_uri": "https://localhost:8080/",
          "height": 334
        },
        "id": "w4KX0sQniiOJ",
        "outputId": "08f3175f-7fb0-4307-f3de-b35ac701fa2a"
      },
      "outputs": [
        {
          "data": {
            "image/png": "[encoded data removed]",
            "text/plain": [
              "<Figure size 1080x360 with 2 Axes>"
            ]
          },
          "metadata": {},
          "output_type": "display_data"
        }
      ],
      "source": [
        "display_learning_curves(history)"
      ]
    },
    {
      "cell_type": "code",
      "execution_count": null,
      "metadata": {
        "colab": {
          "base_uri": "https://localhost:8080/",
          "height": 281
        },
        "id": "1Wlcl47NF_FP",
        "outputId": "d414b45d-9f31-4394-df75-232f0153fe1d"
      },
      "outputs": [
        {
          "data": {
            "image/png": "[encoded data removed]",
            "text/plain": [
              "<Figure size 432x288 with 2 Axes>"
            ]
          },
          "metadata": {},
          "output_type": "display_data"
        }
      ],
      "source": [
        "draw_history(history)"
      ]
    }
  ],
  "metadata": {
    "colab": {
      "provenance": []
    },
    "kernelspec": {
      "display_name": "Python 3",
      "name": "python3"
    },
    "language_info": {
      "name": "python"
    }
  },
  "nbformat": 4,
  "nbformat_minor": 0
}